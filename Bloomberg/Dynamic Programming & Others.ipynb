{
 "cells": [
  {
   "cell_type": "markdown",
   "metadata": {},
   "source": [
    "# 5. Longest Palindromic Substring"
   ]
  },
  {
   "cell_type": "code",
   "execution_count": 7,
   "metadata": {},
   "outputs": [],
   "source": [
    "s = \"babad\""
   ]
  },
  {
   "cell_type": "code",
   "execution_count": null,
   "metadata": {},
   "outputs": [],
   "source": [
    "if s == None and len(s) < 1\n",
    "    return ''"
   ]
  },
  {
   "cell_type": "code",
   "execution_count": 15,
   "metadata": {},
   "outputs": [],
   "source": [
    "class Solution(object):\n",
    "    def longestPalindrome(self, s):\n",
    "        if s == None and len(s) < 1:\n",
    "            return ''\n",
    "        start = end = 0\n",
    "        for i in range (len(s)):\n",
    "            substring1 = self.helper(s,i,i)\n",
    "            substring2 = self.helper(s,i,i+1)\n",
    "            longest = max(substring1,substring2)\n",
    "            if longest > end -start:\n",
    "                start = i - int((longest - 1) /2)\n",
    "                end = i +int(longest /2)\n",
    "        return s[start:end+1]\n",
    "    \n",
    "    def helper(self,s, left, right):\n",
    "        L = left\n",
    "        R = right\n",
    "        while (L >=0 and R < len(s)) and s[L] == s[R]:\n",
    "            L -= 1\n",
    "            R += 1\n",
    "        return R - L - 1"
   ]
  },
  {
   "cell_type": "code",
   "execution_count": 16,
   "metadata": {},
   "outputs": [
    {
     "name": "stdout",
     "output_type": "stream",
     "text": [
      "     aba\n"
     ]
    }
   ],
   "source": [
    "solu = Solution()\n",
    "y = solu.longestPalindrome(s)\n",
    "print('    ',y)"
   ]
  },
  {
   "cell_type": "markdown",
   "metadata": {},
   "source": [
    "# 53. Maximum Subarray"
   ]
  },
  {
   "cell_type": "code",
   "execution_count": 18,
   "metadata": {},
   "outputs": [],
   "source": [
    "nums = [-2,1,-3,4,-1,2,1,-5,4]"
   ]
  },
  {
   "cell_type": "code",
   "execution_count": null,
   "metadata": {},
   "outputs": [],
   "source": [
    "class Solution:\n",
    "    def cross_sum(self, nums, left, right, p): \n",
    "            if left == right:\n",
    "                return nums[left]\n",
    "\n",
    "            left_subsum = float('-inf')\n",
    "            curr_sum = 0\n",
    "            for i in range(p, left - 1, -1):\n",
    "                curr_sum += nums[i]\n",
    "                left_subsum = max(left_subsum, curr_sum)\n",
    "\n",
    "            right_subsum = float('-inf')\n",
    "            curr_sum = 0\n",
    "            for i in range(p + 1, right + 1):\n",
    "                curr_sum += nums[i]\n",
    "                right_subsum = max(right_subsum, curr_sum)\n",
    "\n",
    "            return left_subsum + right_subsum   \n",
    "    \n",
    "    def helper(self, nums, left, right): \n",
    "        if left == right:\n",
    "            return nums[left]\n",
    "        \n",
    "        p = (left + right) // 2\n",
    "            \n",
    "        left_sum = self.helper(nums, left, p)\n",
    "        right_sum = self.helper(nums, p + 1, right)\n",
    "        cross_sum = self.cross_sum(nums, left, right, p)\n",
    "        \n",
    "        return max(left_sum, right_sum, cross_sum)\n",
    "        \n",
    "    def maxSubArray(self, nums: 'List[int]') -> 'int':\n",
    "        return self.helper(nums, 0, len(nums) - 1)"
   ]
  },
  {
   "cell_type": "markdown",
   "metadata": {},
   "source": [
    "# 139. Word Break"
   ]
  },
  {
   "cell_type": "code",
   "execution_count": 1,
   "metadata": {},
   "outputs": [],
   "source": [
    "s = \"leetcode\"\n",
    "wordDict = [\"leet\", \"code\"]"
   ]
  },
  {
   "cell_type": "code",
   "execution_count": 2,
   "metadata": {},
   "outputs": [],
   "source": [
    "def wordBreak(self, s, wordDict):\n",
    "    return word_break(s,wordDict,0)\n",
    "\n",
    "def word_break(s,wordDict,start):\n",
    "    if start == len(s):\n",
    "        return True\n",
    "    for end in range (start +1,len(s)+1):\n",
    "        if (s[start:end] in wordDict) and word_break(s, wordDict, end):\n",
    "            return True\n",
    "    return False"
   ]
  },
  {
   "cell_type": "code",
   "execution_count": 53,
   "metadata": {},
   "outputs": [],
   "source": [
    "s = \"catsandog\"\n",
    "wordDict = [\"cats\", \"dog\", \"sand\", \"and\", \"cat\"]"
   ]
  },
  {
   "cell_type": "code",
   "execution_count": 3,
   "metadata": {},
   "outputs": [],
   "source": [
    "def word_break(s, wordDict, start):\n",
    "    if start == len(s):\n",
    "        return True\n",
    "    for end in range (start +1,len(s)+1):\n",
    "        if (s[start:end] in wordDict) and word_break(s, wordDict, end):\n",
    "            print('   ',s[start:end])\n",
    "            return True\n",
    "    return False"
   ]
  },
  {
   "cell_type": "code",
   "execution_count": 4,
   "metadata": {},
   "outputs": [
    {
     "name": "stdout",
     "output_type": "stream",
     "text": [
      "    code\n",
      "    leet\n"
     ]
    },
    {
     "data": {
      "text/plain": [
       "True"
      ]
     },
     "execution_count": 4,
     "metadata": {},
     "output_type": "execute_result"
    }
   ],
   "source": [
    "re = word_break(s, wordDict,0)\n",
    "re"
   ]
  },
  {
   "cell_type": "markdown",
   "metadata": {},
   "source": [
    "## Approach 4: Using Dynamic Programming"
   ]
  },
  {
   "cell_type": "code",
   "execution_count": null,
   "metadata": {},
   "outputs": [],
   "source": [
    "class Solution(object):   \n",
    "    def wordBreak(self, s, wordDict):\n",
    "        dp = [None] * (len(s)+1)\n",
    "        dp[0] = True\n",
    "        for i in range (1,len(s)+1):\n",
    "            for j in range(i):\n",
    "                if dp[j] and (s[j:i] in wordDict):\n",
    "                    dp[i] = True\n",
    "                    break\n",
    "        return dp[len(s)]"
   ]
  },
  {
   "cell_type": "markdown",
   "metadata": {},
   "source": [
    "# Others"
   ]
  },
  {
   "cell_type": "markdown",
   "metadata": {},
   "source": [
    "## 79. Word Search"
   ]
  },
  {
   "cell_type": "code",
   "execution_count": 26,
   "metadata": {},
   "outputs": [],
   "source": [
    "board =[['A','B','C','E'],\n",
    "        ['S','F','C','S'],\n",
    "        ['A','D','E','E']]\n",
    "word = \"ABCCED\""
   ]
  },
  {
   "cell_type": "code",
   "execution_count": 27,
   "metadata": {},
   "outputs": [],
   "source": [
    "class Solution(object):\n",
    "    def exist(self, board, word):\n",
    "        self.rows = len(board)\n",
    "        self.cols = len(board[0])\n",
    "        self.board = board\n",
    "\n",
    "        for r in range(self.rows):\n",
    "            for c in range(self.cols):\n",
    "                if self.backtrack(r, c, word):\n",
    "                    return True\n",
    "        return False\n",
    "    \n",
    "    def backtrack(self, row, col, suffix):\n",
    "        if len(suffix) == 0:\n",
    "            return True\n",
    "\n",
    "        if row < 0 or row == self.rows or col < 0 or col == self.cols \\\n",
    "                or self.board[row][col] != suffix[0]:\n",
    "            return False\n",
    "\n",
    "        ret = False\n",
    "        self.board[row][col] = '#'\n",
    "        for rowOffset, colOffset in [(0, 1), (1, 0), (0, -1), (-1, 0)]:\n",
    "            ret = self.backtrack(row + rowOffset, col + colOffset, suffix[1:])\n",
    "            if ret: break\n",
    "\n",
    "        self.board[row][col] = suffix[0]\n",
    "\n",
    "        return ret"
   ]
  },
  {
   "cell_type": "code",
   "execution_count": 28,
   "metadata": {},
   "outputs": [
    {
     "data": {
      "text/plain": [
       "True"
      ]
     },
     "execution_count": 28,
     "metadata": {},
     "output_type": "execute_result"
    }
   ],
   "source": [
    "obj = Solution()\n",
    "y = obj.exist(board,word)\n",
    "y"
   ]
  }
 ],
 "metadata": {
  "kernelspec": {
   "display_name": "Python 3",
   "language": "python",
   "name": "python3"
  },
  "language_info": {
   "codemirror_mode": {
    "name": "ipython",
    "version": 3
   },
   "file_extension": ".py",
   "mimetype": "text/x-python",
   "name": "python",
   "nbconvert_exporter": "python",
   "pygments_lexer": "ipython3",
   "version": "3.7.6"
  }
 },
 "nbformat": 4,
 "nbformat_minor": 4
}
