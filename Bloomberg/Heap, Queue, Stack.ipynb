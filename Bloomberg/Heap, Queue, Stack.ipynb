{
 "cells": [
  {
   "cell_type": "markdown",
   "metadata": {},
   "source": [
    "# 239. Sliding Window Maximum"
   ]
  },
  {
   "cell_type": "code",
   "execution_count": 8,
   "metadata": {},
   "outputs": [],
   "source": [
    "nums = [1,3,-1,-3,5,3,6,7]\n",
    "k = 3"
   ]
  },
  {
   "cell_type": "code",
   "execution_count": 9,
   "metadata": {},
   "outputs": [
    {
     "data": {
      "text/plain": [
       "[3, 3, 5, 5, 6, 7]"
      ]
     },
     "execution_count": 9,
     "metadata": {},
     "output_type": "execute_result"
    }
   ],
   "source": [
    "res = []\n",
    "for i in range(len(nums) - k+1):\n",
    "    res.append(max(nums[i:i+k]))\n",
    "res"
   ]
  },
  {
   "cell_type": "code",
   "execution_count": 18,
   "metadata": {},
   "outputs": [],
   "source": [
    "class Solution(object):\n",
    "    def maxSlidingWindow(self, nums, k):\n",
    "\n",
    "        N = len(nums)\n",
    "        if N * k == 0:\n",
    "            return []\n",
    "        if k == 1:\n",
    "            return nums\n",
    "        left = [0] * N\n",
    "        left[0] = nums[0]\n",
    "        right = [0] * N\n",
    "        right[N - 1] = nums[N-1]\n",
    "        for i in range(1,N):\n",
    "            if i % k ==0:\n",
    "                left[i] = nums[i]\n",
    "            else:\n",
    "                left[i] = max(left[i-1],nums[i])\n",
    "            j = N - i -1\n",
    "            if (j + 1) % k ==0:\n",
    "                right[j] = nums[j]\n",
    "            else:\n",
    "                right[j] = max(right[j + 1],nums[j])\n",
    "            res = []\n",
    "            for i in range(N - k + 1):\n",
    "                res.append(max(left[i+k-1],right[i]))\n",
    "        return res"
   ]
  },
  {
   "cell_type": "code",
   "execution_count": 20,
   "metadata": {},
   "outputs": [
    {
     "data": {
      "text/plain": [
       "[3, 3, 5, 5, 6, 7]"
      ]
     },
     "execution_count": 20,
     "metadata": {},
     "output_type": "execute_result"
    }
   ],
   "source": [
    "obj = Solution()\n",
    "y = obj.maxSlidingWindow(nums, k)\n",
    "y"
   ]
  },
  {
   "cell_type": "markdown",
   "metadata": {},
   "source": [
    "# 253. Meeting Rooms II"
   ]
  },
  {
   "cell_type": "code",
   "execution_count": 22,
   "metadata": {},
   "outputs": [],
   "source": [
    "import heapq"
   ]
  },
  {
   "cell_type": "code",
   "execution_count": 32,
   "metadata": {},
   "outputs": [],
   "source": [
    "intervals = [[0, 30],[5, 10],[15, 20]]"
   ]
  },
  {
   "cell_type": "markdown",
   "metadata": {},
   "source": [
    "## Approach 1: Priority Queues"
   ]
  },
  {
   "cell_type": "code",
   "execution_count": 44,
   "metadata": {},
   "outputs": [
    {
     "data": {
      "text/plain": [
       "2"
      ]
     },
     "execution_count": 44,
     "metadata": {},
     "output_type": "execute_result"
    }
   ],
   "source": [
    "empty = []\n",
    "intervals.sort(key = lambda x: x[0])\n",
    "heapq.heappush(empty,intervals[0][1])\n",
    "for i in intervals[1:]:\n",
    "    if empty[0] <= i[0]:\n",
    "        heapq.heappop(empty)\n",
    "    heapq.heappush(empty,i[1])\n",
    "len(empty)"
   ]
  },
  {
   "cell_type": "markdown",
   "metadata": {},
   "source": [
    "## Approach 2: Chronological Ordering"
   ]
  },
  {
   "cell_type": "code",
   "execution_count": 49,
   "metadata": {},
   "outputs": [
    {
     "data": {
      "text/plain": [
       "2"
      ]
     },
     "execution_count": 49,
     "metadata": {},
     "output_type": "execute_result"
    }
   ],
   "source": [
    "occupied = 0\n",
    "start = sorted(i[0] for i in intervals)\n",
    "end = sorted(i[1] for i in intervals)\n",
    "N = len(intervals)\n",
    "sp = ep = 0\n",
    "while sp < N:\n",
    "        if start[sp] >= end[ep]:\n",
    "            occupied -= 1\n",
    "            ep += 1\n",
    "        occupied +=1\n",
    "        sp +=1\n",
    "occupied"
   ]
  }
 ],
 "metadata": {
  "kernelspec": {
   "display_name": "Python 3",
   "language": "python",
   "name": "python3"
  },
  "language_info": {
   "codemirror_mode": {
    "name": "ipython",
    "version": 3
   },
   "file_extension": ".py",
   "mimetype": "text/x-python",
   "name": "python",
   "nbconvert_exporter": "python",
   "pygments_lexer": "ipython3",
   "version": "3.7.6"
  }
 },
 "nbformat": 4,
 "nbformat_minor": 4
}
