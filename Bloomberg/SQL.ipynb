{
 "cells": [
  {
   "cell_type": "code",
   "execution_count": 6,
   "metadata": {},
   "outputs": [
    {
     "name": "stdout",
     "output_type": "stream",
     "text": [
      " * sqlite://\n",
      "Done.\n",
      "1 rows affected.\n",
      "1 rows affected.\n",
      "1 rows affected.\n",
      "Done.\n"
     ]
    },
    {
     "data": {
      "text/html": [
       "<table>\n",
       "    <tr>\n",
       "        <th>Id</th>\n",
       "        <th>Salary</th>\n",
       "    </tr>\n",
       "    <tr>\n",
       "        <td>1</td>\n",
       "        <td>100</td>\n",
       "    </tr>\n",
       "    <tr>\n",
       "        <td>2</td>\n",
       "        <td>200</td>\n",
       "    </tr>\n",
       "    <tr>\n",
       "        <td>3</td>\n",
       "        <td>300</td>\n",
       "    </tr>\n",
       "</table>"
      ],
      "text/plain": [
       "[(1, 100), (2, 200), (3, 300)]"
      ]
     },
     "execution_count": 6,
     "metadata": {},
     "output_type": "execute_result"
    }
   ],
   "source": [
    "%%sql \n",
    "CREATE TABLE Employee(Id INT(50),Salary INT(50));\n",
    "INSERT INTO Employee VALUES(1,100);\n",
    "INSERT INTO Employee VALUES(2,200);\n",
    "INSERT INTO Employee VALUES(3,300);\n",
    "SELECT * from Employee;"
   ]
  },
  {
   "cell_type": "markdown",
   "metadata": {},
   "source": [
    "# 176. Second Highest Salary"
   ]
  },
  {
   "cell_type": "code",
   "execution_count": 13,
   "metadata": {},
   "outputs": [
    {
     "name": "stdout",
     "output_type": "stream",
     "text": [
      " * sqlite://\n",
      "Done.\n"
     ]
    },
    {
     "data": {
      "text/html": [
       "<table>\n",
       "    <tr>\n",
       "        <th>SecondHighestSalary</th>\n",
       "    </tr>\n",
       "    <tr>\n",
       "        <td>200</td>\n",
       "    </tr>\n",
       "</table>"
      ],
      "text/plain": [
       "[(200,)]"
      ]
     },
     "execution_count": 13,
     "metadata": {},
     "output_type": "execute_result"
    }
   ],
   "source": [
    "%%sql\n",
    "SELECT\n",
    "    (SELECT DISTINCT Salary\n",
    "     FROM Employee\n",
    "     ORDER BY Salary DESC\n",
    "     LIMIT 1 OFFSET 1) AS SecondHighestSalary;"
   ]
  },
  {
   "cell_type": "markdown",
   "metadata": {},
   "source": [
    "# 177. Nth Highest Salary"
   ]
  },
  {
   "cell_type": "code",
   "execution_count": 18,
   "metadata": {},
   "outputs": [],
   "source": [
    "N = 2"
   ]
  },
  {
   "cell_type": "code",
   "execution_count": 21,
   "metadata": {},
   "outputs": [
    {
     "name": "stdout",
     "output_type": "stream",
     "text": [
      " * sqlite://\n",
      "Done.\n"
     ]
    },
    {
     "data": {
      "text/html": [
       "<table>\n",
       "    <tr>\n",
       "        <th>Salary</th>\n",
       "    </tr>\n",
       "    <tr>\n",
       "        <td>100</td>\n",
       "    </tr>\n",
       "</table>"
      ],
      "text/plain": [
       "[(100,)]"
      ]
     },
     "execution_count": 21,
     "metadata": {},
     "output_type": "execute_result"
    }
   ],
   "source": [
    "%%sql\n",
    "SELECT E.Salary\n",
    "FROM (\n",
    "  SELECT DISTINCT (CASE WHEN 3 > (SELECT DISTINCT COUNT(*) \n",
    "                                  FROM (SELECT DISTINCT Salary FROM Employee) E) \n",
    "                   THEN NULL ELSE Salary END) AS Salary\n",
    "  FROM Employee\n",
    "  ORDER BY Salary DESC\n",
    "  LIMIT 3\n",
    ") E\n",
    "ORDER BY Salary\n",
    "LIMIT 1"
   ]
  },
  {
   "cell_type": "markdown",
   "metadata": {},
   "source": [
    "# 183. Customers Who Never Order"
   ]
  },
  {
   "cell_type": "code",
   "execution_count": 22,
   "metadata": {},
   "outputs": [
    {
     "name": "stdout",
     "output_type": "stream",
     "text": [
      " * sqlite://\n",
      "Done.\n",
      "1 rows affected.\n",
      "1 rows affected.\n",
      "1 rows affected.\n",
      "1 rows affected.\n",
      "Done.\n"
     ]
    },
    {
     "data": {
      "text/html": [
       "<table>\n",
       "    <tr>\n",
       "        <th>Id</th>\n",
       "        <th>Name</th>\n",
       "    </tr>\n",
       "    <tr>\n",
       "        <td>1</td>\n",
       "        <td>Joe</td>\n",
       "    </tr>\n",
       "    <tr>\n",
       "        <td>2</td>\n",
       "        <td>Henry</td>\n",
       "    </tr>\n",
       "    <tr>\n",
       "        <td>3</td>\n",
       "        <td>Sam</td>\n",
       "    </tr>\n",
       "    <tr>\n",
       "        <td>4</td>\n",
       "        <td>Max</td>\n",
       "    </tr>\n",
       "</table>"
      ],
      "text/plain": [
       "[(1, 'Joe'), (2, 'Henry'), (3, 'Sam'), (4, 'Max')]"
      ]
     },
     "execution_count": 22,
     "metadata": {},
     "output_type": "execute_result"
    }
   ],
   "source": [
    "%%sql \n",
    "CREATE TABLE Customers(Id INT(50),Name varchar(255));\n",
    "INSERT INTO Customers VALUES(1,'Joe');\n",
    "INSERT INTO Customers VALUES(2,'Henry');\n",
    "INSERT INTO Customers VALUES(3,'Sam');\n",
    "INSERT INTO Customers VALUES(4,'Max');\n",
    "SELECT * from Customers;"
   ]
  },
  {
   "cell_type": "code",
   "execution_count": 23,
   "metadata": {},
   "outputs": [
    {
     "name": "stdout",
     "output_type": "stream",
     "text": [
      " * sqlite://\n",
      "Done.\n",
      "1 rows affected.\n",
      "1 rows affected.\n",
      "Done.\n"
     ]
    },
    {
     "data": {
      "text/html": [
       "<table>\n",
       "    <tr>\n",
       "        <th>Id</th>\n",
       "        <th>CustomerId</th>\n",
       "    </tr>\n",
       "    <tr>\n",
       "        <td>1</td>\n",
       "        <td>3</td>\n",
       "    </tr>\n",
       "    <tr>\n",
       "        <td>2</td>\n",
       "        <td>1</td>\n",
       "    </tr>\n",
       "</table>"
      ],
      "text/plain": [
       "[(1, 3), (2, 1)]"
      ]
     },
     "execution_count": 23,
     "metadata": {},
     "output_type": "execute_result"
    }
   ],
   "source": [
    "%%sql \n",
    "CREATE TABLE Orders(Id INT(50),CustomerId INT(50));\n",
    "INSERT INTO Orders VALUES(1,3);\n",
    "INSERT INTO Orders VALUES(2,1);\n",
    "SELECT * from Orders;"
   ]
  },
  {
   "cell_type": "code",
   "execution_count": 27,
   "metadata": {},
   "outputs": [
    {
     "name": "stdout",
     "output_type": "stream",
     "text": [
      " * sqlite://\n",
      "Done.\n"
     ]
    },
    {
     "data": {
      "text/html": [
       "<table>\n",
       "    <tr>\n",
       "        <th>Customers</th>\n",
       "    </tr>\n",
       "    <tr>\n",
       "        <td>Henry</td>\n",
       "    </tr>\n",
       "    <tr>\n",
       "        <td>Max</td>\n",
       "    </tr>\n",
       "</table>"
      ],
      "text/plain": [
       "[('Henry',), ('Max',)]"
      ]
     },
     "execution_count": 27,
     "metadata": {},
     "output_type": "execute_result"
    }
   ],
   "source": [
    "%%sql \n",
    "SELECT C.name as 'Customers'\n",
    "FROM Customers C\n",
    "WHERE C.id not in\n",
    "(SELECT CustomerId FROM Orders);\n"
   ]
  },
  {
   "cell_type": "markdown",
   "metadata": {},
   "source": [
    "# 597. Friend Requests I: Overall Acceptance Rate - また"
   ]
  },
  {
   "cell_type": "code",
   "execution_count": 28,
   "metadata": {},
   "outputs": [
    {
     "name": "stdout",
     "output_type": "stream",
     "text": [
      " * sqlite://\n",
      "Done.\n",
      "1 rows affected.\n",
      "1 rows affected.\n",
      "1 rows affected.\n",
      "1 rows affected.\n",
      "1 rows affected.\n",
      "Done.\n"
     ]
    },
    {
     "data": {
      "text/html": [
       "<table>\n",
       "    <tr>\n",
       "        <th>sender_id</th>\n",
       "        <th>send_to_id</th>\n",
       "        <th>request_date</th>\n",
       "    </tr>\n",
       "    <tr>\n",
       "        <td>1</td>\n",
       "        <td>2</td>\n",
       "        <td>2016_06-01</td>\n",
       "    </tr>\n",
       "    <tr>\n",
       "        <td>1</td>\n",
       "        <td>3</td>\n",
       "        <td>2016_06-01</td>\n",
       "    </tr>\n",
       "    <tr>\n",
       "        <td>1</td>\n",
       "        <td>4</td>\n",
       "        <td>2016_06-01</td>\n",
       "    </tr>\n",
       "    <tr>\n",
       "        <td>2</td>\n",
       "        <td>3</td>\n",
       "        <td>2016_06-02</td>\n",
       "    </tr>\n",
       "    <tr>\n",
       "        <td>3</td>\n",
       "        <td>4</td>\n",
       "        <td>2016_06-09</td>\n",
       "    </tr>\n",
       "</table>"
      ],
      "text/plain": [
       "[(1, 2, '2016_06-01'),\n",
       " (1, 3, '2016_06-01'),\n",
       " (1, 4, '2016_06-01'),\n",
       " (2, 3, '2016_06-02'),\n",
       " (3, 4, '2016_06-09')]"
      ]
     },
     "execution_count": 28,
     "metadata": {},
     "output_type": "execute_result"
    }
   ],
   "source": [
    "%%sql \n",
    "CREATE TABLE friend_request(sender_id INT(50),send_to_id INT(50),request_date DATE);\n",
    "INSERT INTO friend_request VALUES(1,2,'2016_06-01');\n",
    "INSERT INTO friend_request VALUES(1,3,'2016_06-01');\n",
    "INSERT INTO friend_request VALUES(1,4,'2016_06-01');\n",
    "INSERT INTO friend_request VALUES(2,3,'2016_06-02');\n",
    "INSERT INTO friend_request VALUES(3,4,'2016_06-09');\n",
    "SELECT * from friend_request;"
   ]
  },
  {
   "cell_type": "code",
   "execution_count": 29,
   "metadata": {},
   "outputs": [
    {
     "name": "stdout",
     "output_type": "stream",
     "text": [
      " * sqlite://\n",
      "Done.\n",
      "1 rows affected.\n",
      "1 rows affected.\n",
      "1 rows affected.\n",
      "1 rows affected.\n",
      "1 rows affected.\n",
      "Done.\n"
     ]
    },
    {
     "data": {
      "text/html": [
       "<table>\n",
       "    <tr>\n",
       "        <th>requester_id</th>\n",
       "        <th>accepter_id</th>\n",
       "        <th>accept_date</th>\n",
       "    </tr>\n",
       "    <tr>\n",
       "        <td>1</td>\n",
       "        <td>2</td>\n",
       "        <td>2016_06-03</td>\n",
       "    </tr>\n",
       "    <tr>\n",
       "        <td>1</td>\n",
       "        <td>3</td>\n",
       "        <td>2016_06-08</td>\n",
       "    </tr>\n",
       "    <tr>\n",
       "        <td>2</td>\n",
       "        <td>3</td>\n",
       "        <td>2016_06-08</td>\n",
       "    </tr>\n",
       "    <tr>\n",
       "        <td>3</td>\n",
       "        <td>4</td>\n",
       "        <td>2016_06-09</td>\n",
       "    </tr>\n",
       "    <tr>\n",
       "        <td>3</td>\n",
       "        <td>4</td>\n",
       "        <td>2016_06-10</td>\n",
       "    </tr>\n",
       "</table>"
      ],
      "text/plain": [
       "[(1, 2, '2016_06-03'),\n",
       " (1, 3, '2016_06-08'),\n",
       " (2, 3, '2016_06-08'),\n",
       " (3, 4, '2016_06-09'),\n",
       " (3, 4, '2016_06-10')]"
      ]
     },
     "execution_count": 29,
     "metadata": {},
     "output_type": "execute_result"
    }
   ],
   "source": [
    "%%sql \n",
    "CREATE TABLE request_accepted(requester_id INT(50),accepter_id INT(50),accept_date DATE);\n",
    "INSERT INTO request_accepted VALUES(1,2,'2016_06-03');\n",
    "INSERT INTO request_accepted VALUES(1,3,'2016_06-08');\n",
    "INSERT INTO request_accepted VALUES(2,3,'2016_06-08');\n",
    "INSERT INTO request_accepted VALUES(3,4,'2016_06-09');\n",
    "INSERT INTO request_accepted VALUES(3,4,'2016_06-10');\n",
    "SELECT * from request_accepted;"
   ]
  },
  {
   "cell_type": "code",
   "execution_count": 44,
   "metadata": {},
   "outputs": [
    {
     "name": "stdout",
     "output_type": "stream",
     "text": [
      " * sqlite://\n",
      "Done.\n"
     ]
    },
    {
     "data": {
      "text/html": [
       "<table>\n",
       "    <tr>\n",
       "        <th>accept_rate</th>\n",
       "    </tr>\n",
       "    <tr>\n",
       "        <td>0.0</td>\n",
       "    </tr>\n",
       "</table>"
      ],
      "text/plain": [
       "[(0.0,)]"
      ]
     },
     "execution_count": 44,
     "metadata": {},
     "output_type": "execute_result"
    }
   ],
   "source": [
    "%%sql \n",
    "SELECT round(IFNULL(\n",
    "    (select count(*) from (select distinct requester_id, accepter_id \n",
    "                           from request_accepted) as A)/\n",
    "    (select count(*) from (select distinct sender_id, send_to_id \n",
    "                           from friend_request) as B),0), 2) as accept_rate;"
   ]
  },
  {
   "cell_type": "markdown",
   "metadata": {},
   "source": [
    "# 602. Friend Requests II: Who Has the Most Friends"
   ]
  },
  {
   "cell_type": "code",
   "execution_count": 46,
   "metadata": {},
   "outputs": [
    {
     "name": "stdout",
     "output_type": "stream",
     "text": [
      " * sqlite://\n",
      "Done.\n",
      "1 rows affected.\n",
      "1 rows affected.\n",
      "1 rows affected.\n",
      "1 rows affected.\n",
      "Done.\n"
     ]
    },
    {
     "data": {
      "text/html": [
       "<table>\n",
       "    <tr>\n",
       "        <th>requester_id</th>\n",
       "        <th>accepter_id</th>\n",
       "        <th>accept_date</th>\n",
       "    </tr>\n",
       "    <tr>\n",
       "        <td>1</td>\n",
       "        <td>2</td>\n",
       "        <td>2016_06-03</td>\n",
       "    </tr>\n",
       "    <tr>\n",
       "        <td>1</td>\n",
       "        <td>3</td>\n",
       "        <td>2016_06-08</td>\n",
       "    </tr>\n",
       "    <tr>\n",
       "        <td>2</td>\n",
       "        <td>3</td>\n",
       "        <td>2016_06-08</td>\n",
       "    </tr>\n",
       "    <tr>\n",
       "        <td>3</td>\n",
       "        <td>4</td>\n",
       "        <td>2016_06-09</td>\n",
       "    </tr>\n",
       "</table>"
      ],
      "text/plain": [
       "[(1, 2, '2016_06-03'),\n",
       " (1, 3, '2016_06-08'),\n",
       " (2, 3, '2016_06-08'),\n",
       " (3, 4, '2016_06-09')]"
      ]
     },
     "execution_count": 46,
     "metadata": {},
     "output_type": "execute_result"
    }
   ],
   "source": [
    "%%sql \n",
    "CREATE TABLE request_accept(requester_id INT(50),accepter_id INT(50),accept_date DATE);\n",
    "INSERT INTO request_accept VALUES(1,2,'2016_06-03');\n",
    "INSERT INTO request_accept VALUES(1,3,'2016_06-08');\n",
    "INSERT INTO request_accept VALUES(2,3,'2016_06-08');\n",
    "INSERT INTO request_accept VALUES(3,4,'2016_06-09');\n",
    "SELECT * from request_accept;"
   ]
  },
  {
   "cell_type": "code",
   "execution_count": 48,
   "metadata": {},
   "outputs": [
    {
     "name": "stdout",
     "output_type": "stream",
     "text": [
      " * sqlite://\n",
      "Done.\n"
     ]
    },
    {
     "data": {
      "text/html": [
       "<table>\n",
       "    <tr>\n",
       "        <th>id</th>\n",
       "        <th>num</th>\n",
       "    </tr>\n",
       "    <tr>\n",
       "        <td>3</td>\n",
       "        <td>4</td>\n",
       "    </tr>\n",
       "</table>"
      ],
      "text/plain": [
       "[(3, 4)]"
      ]
     },
     "execution_count": 48,
     "metadata": {},
     "output_type": "execute_result"
    }
   ],
   "source": [
    "%%sql \n",
    "\n",
    "SELECT idx as id, cnt as num\n",
    "FROM\n",
    "    (SELECT idx,count(*) as cnt \n",
    "     FROM \n",
    "         (SELECT requester_id AS idx FROM request_accepted\n",
    "          UNION ALL\n",
    "          SELECT accepter_id FROM request_accepted\n",
    "         ) AS t1\n",
    "     GROUP BY idx) AS t2\n",
    "ORDER BY cnt DESC\n",
    "LIMIT 1;"
   ]
  },
  {
   "cell_type": "markdown",
   "metadata": {},
   "source": [
    "# 185. Department Top Three Salaries"
   ]
  },
  {
   "cell_type": "code",
   "execution_count": 50,
   "metadata": {},
   "outputs": [
    {
     "name": "stdout",
     "output_type": "stream",
     "text": [
      " * sqlite://\n",
      "Done.\n",
      "1 rows affected.\n",
      "1 rows affected.\n",
      "1 rows affected.\n",
      "1 rows affected.\n",
      "1 rows affected.\n",
      "1 rows affected.\n",
      "1 rows affected.\n",
      "Done.\n"
     ]
    },
    {
     "data": {
      "text/html": [
       "<table>\n",
       "    <tr>\n",
       "        <th>Id</th>\n",
       "        <th>Name</th>\n",
       "        <th>Salary</th>\n",
       "        <th>DepartmentId</th>\n",
       "    </tr>\n",
       "    <tr>\n",
       "        <td>1</td>\n",
       "        <td>Joe</td>\n",
       "        <td>85000</td>\n",
       "        <td>1</td>\n",
       "    </tr>\n",
       "    <tr>\n",
       "        <td>2</td>\n",
       "        <td>Henry</td>\n",
       "        <td>80000</td>\n",
       "        <td>2</td>\n",
       "    </tr>\n",
       "    <tr>\n",
       "        <td>3</td>\n",
       "        <td>Sam</td>\n",
       "        <td>60000</td>\n",
       "        <td>2</td>\n",
       "    </tr>\n",
       "    <tr>\n",
       "        <td>4</td>\n",
       "        <td>Max</td>\n",
       "        <td>90000</td>\n",
       "        <td>1</td>\n",
       "    </tr>\n",
       "    <tr>\n",
       "        <td>5</td>\n",
       "        <td>Janet</td>\n",
       "        <td>69000</td>\n",
       "        <td>1</td>\n",
       "    </tr>\n",
       "    <tr>\n",
       "        <td>6</td>\n",
       "        <td>Randy</td>\n",
       "        <td>85000</td>\n",
       "        <td>1</td>\n",
       "    </tr>\n",
       "    <tr>\n",
       "        <td>7</td>\n",
       "        <td>Will</td>\n",
       "        <td>70000</td>\n",
       "        <td>1</td>\n",
       "    </tr>\n",
       "</table>"
      ],
      "text/plain": [
       "[(1, 'Joe', 85000, 1),\n",
       " (2, 'Henry', 80000, 2),\n",
       " (3, 'Sam', 60000, 2),\n",
       " (4, 'Max', 90000, 1),\n",
       " (5, 'Janet', 69000, 1),\n",
       " (6, 'Randy', 85000, 1),\n",
       " (7, 'Will', 70000, 1)]"
      ]
     },
     "execution_count": 50,
     "metadata": {},
     "output_type": "execute_result"
    }
   ],
   "source": [
    "%%sql \n",
    "CREATE TABLE Employe(Id INT(50),Name varchar(255), Salary INT(50),DepartmentId INT(50));\n",
    "INSERT INTO Employe VALUES(1,'Joe',85000,1);\n",
    "INSERT INTO Employe VALUES(2,'Henry',80000,2);\n",
    "INSERT INTO Employe VALUES(3,'Sam',60000,2);\n",
    "INSERT INTO Employe VALUES(4,'Max',90000,1);\n",
    "INSERT INTO Employe VALUES(5,'Janet',69000,1);\n",
    "INSERT INTO Employe VALUES(6,'Randy',85000,1);\n",
    "INSERT INTO Employe VALUES(7,'Will',70000,1);\n",
    "\n",
    "SELECT * from Employe;"
   ]
  },
  {
   "cell_type": "code",
   "execution_count": 51,
   "metadata": {},
   "outputs": [
    {
     "name": "stdout",
     "output_type": "stream",
     "text": [
      " * sqlite://\n",
      "Done.\n",
      "1 rows affected.\n",
      "1 rows affected.\n",
      "Done.\n"
     ]
    },
    {
     "data": {
      "text/html": [
       "<table>\n",
       "    <tr>\n",
       "        <th>Id</th>\n",
       "        <th>Name</th>\n",
       "    </tr>\n",
       "    <tr>\n",
       "        <td>1</td>\n",
       "        <td>IT</td>\n",
       "    </tr>\n",
       "    <tr>\n",
       "        <td>2</td>\n",
       "        <td>Sales</td>\n",
       "    </tr>\n",
       "</table>"
      ],
      "text/plain": [
       "[(1, 'IT'), (2, 'Sales')]"
      ]
     },
     "execution_count": 51,
     "metadata": {},
     "output_type": "execute_result"
    }
   ],
   "source": [
    "%%sql \n",
    "CREATE TABLE Department(Id INT(50),Name varchar(255));\n",
    "INSERT INTO Department VALUES(1,'IT');\n",
    "INSERT INTO Department VALUES(2,'Sales');\n",
    "SELECT * from Department;"
   ]
  },
  {
   "cell_type": "code",
   "execution_count": 61,
   "metadata": {},
   "outputs": [
    {
     "name": "stdout",
     "output_type": "stream",
     "text": [
      " * sqlite://\n",
      "Done.\n"
     ]
    },
    {
     "data": {
      "text/html": [
       "<table>\n",
       "    <tr>\n",
       "        <th>Department</th>\n",
       "        <th>Employe</th>\n",
       "        <th>Salary</th>\n",
       "    </tr>\n",
       "    <tr>\n",
       "        <td>IT</td>\n",
       "        <td>Joe</td>\n",
       "        <td>85000</td>\n",
       "    </tr>\n",
       "    <tr>\n",
       "        <td>Sales</td>\n",
       "        <td>Henry</td>\n",
       "        <td>80000</td>\n",
       "    </tr>\n",
       "    <tr>\n",
       "        <td>Sales</td>\n",
       "        <td>Sam</td>\n",
       "        <td>60000</td>\n",
       "    </tr>\n",
       "    <tr>\n",
       "        <td>IT</td>\n",
       "        <td>Max</td>\n",
       "        <td>90000</td>\n",
       "    </tr>\n",
       "    <tr>\n",
       "        <td>IT</td>\n",
       "        <td>Randy</td>\n",
       "        <td>85000</td>\n",
       "    </tr>\n",
       "    <tr>\n",
       "        <td>IT</td>\n",
       "        <td>Will</td>\n",
       "        <td>70000</td>\n",
       "    </tr>\n",
       "</table>"
      ],
      "text/plain": [
       "[('IT', 'Joe', 85000),\n",
       " ('Sales', 'Henry', 80000),\n",
       " ('Sales', 'Sam', 60000),\n",
       " ('IT', 'Max', 90000),\n",
       " ('IT', 'Randy', 85000),\n",
       " ('IT', 'Will', 70000)]"
      ]
     },
     "execution_count": 61,
     "metadata": {},
     "output_type": "execute_result"
    }
   ],
   "source": [
    "%%sql \n",
    "SELECT d.Name AS Department, e1.Name AS Employe, e1.Salary\n",
    "FROM Employe e1\n",
    "JOIN Department d ON e1.DepartmentId = d.Id\n",
    "WHERE 3 > (SELECT COUNT(DISTINCT e2.Salary)\n",
    "        FROM Employe e2\n",
    "        WHERE e2.Salary > e1.Salary AND e1.DepartmentId = e2.DepartmentId);"
   ]
  }
 ],
 "metadata": {
  "kernelspec": {
   "display_name": "Python 3",
   "language": "python",
   "name": "python3"
  },
  "language_info": {
   "codemirror_mode": {
    "name": "ipython",
    "version": 3
   },
   "file_extension": ".py",
   "mimetype": "text/x-python",
   "name": "python",
   "nbconvert_exporter": "python",
   "pygments_lexer": "ipython3",
   "version": "3.7.6"
  }
 },
 "nbformat": 4,
 "nbformat_minor": 4
}
