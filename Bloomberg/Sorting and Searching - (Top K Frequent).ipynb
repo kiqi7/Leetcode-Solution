{
 "cells": [
  {
   "cell_type": "markdown",
   "metadata": {},
   "source": [
    "# 4. Median of Two Sorted Arrays"
   ]
  },
  {
   "cell_type": "code",
   "execution_count": 4,
   "metadata": {},
   "outputs": [],
   "source": [
    "nums1 = [1, 2]\n",
    "nums2 = [3, 4]"
   ]
  },
  {
   "cell_type": "code",
   "execution_count": 17,
   "metadata": {},
   "outputs": [],
   "source": [
    "A = [1, 3]\n",
    "B = [2,7,8]"
   ]
  },
  {
   "cell_type": "code",
   "execution_count": 5,
   "metadata": {},
   "outputs": [],
   "source": [
    "class Solution(object):\n",
    "    def findMedianSortedArrays(self,nums1, nums2):\n",
    "        m, n = len(nums1),len(nums2)\n",
    "        if m >n :\n",
    "            nums1, nums2, m, n = nums2, nums1, n, m\n",
    "        if n == 0:\n",
    "            raise ValueError\n",
    "        left, right, half_len = 0, m, (m+n+1)/2\n",
    "        while left <= right:\n",
    "            cut1 = (left + right) //2\n",
    "            cut2 = int(half_len - cut1)\n",
    "            if cut1 < m and nums2[cut2 - 1] > nums1[cut1]:\n",
    "                left = cut1 + 1\n",
    "            elif cut1 > 0 and nums1[cut1 -1] > nums2[cut2]:\n",
    "                right = cut1 - 1\n",
    "            else:\n",
    "                if cut1 == 0: max_of_left = nums2[cut2 - 1]\n",
    "                elif cut2 == 0: max_of_left = nums1[cut1 - 1]\n",
    "                else: max_of_left = max(nums1[cut1-1], nums2[cut2-1])\n",
    "\n",
    "                if (m + n) % 2 == 1:\n",
    "                    return max_of_left\n",
    "                if cut1 == m: min_of_right = nums2[cut2]\n",
    "                elif cut2 == n: min_of_right = nums1[cut1]\n",
    "                else: min_of_right = min(nums1[cut1], nums2[cut2])\n",
    "\n",
    "                return max_of_left + min_of_right / 2.0"
   ]
  },
  {
   "cell_type": "code",
   "execution_count": 10,
   "metadata": {},
   "outputs": [
    {
     "data": {
      "text/plain": [
       "3.5"
      ]
     },
     "execution_count": 10,
     "metadata": {},
     "output_type": "execute_result"
    }
   ],
   "source": [
    "obj = Solution()\n",
    "y = obj.findMedianSortedArrays(nums1, nums2)\n",
    "y"
   ]
  },
  {
   "cell_type": "code",
   "execution_count": 26,
   "metadata": {},
   "outputs": [],
   "source": [
    "a = 1; b =2\n",
    "x = True; y =False"
   ]
  },
  {
   "cell_type": "code",
   "execution_count": 34,
   "metadata": {},
   "outputs": [],
   "source": [
    "result = x if a > float('-inf') else y"
   ]
  },
  {
   "cell_type": "code",
   "execution_count": 35,
   "metadata": {},
   "outputs": [
    {
     "data": {
      "text/plain": [
       "True"
      ]
     },
     "execution_count": 35,
     "metadata": {},
     "output_type": "execute_result"
    }
   ],
   "source": [
    "result"
   ]
  },
  {
   "cell_type": "code",
   "execution_count": 73,
   "metadata": {},
   "outputs": [],
   "source": [
    "nums1 = [3,4]\n",
    "nums2 = [1,2]"
   ]
  },
  {
   "cell_type": "code",
   "execution_count": 70,
   "metadata": {},
   "outputs": [],
   "source": [
    "def findMedianSortedArrays(nums1, nums2):\n",
    "    if len(nums1) > len(nums2):\n",
    "        nums1,nums2 = nums2,nums1\n",
    "    total_len = len(nums1) + len(nums2)\n",
    "    cut1 = cut2 = cutL = 0\n",
    "    cutR = len(nums1)\n",
    "\n",
    "    while cut1 <= len(nums1):\n",
    "        cut1 = (cutR - cutL) // 2 + cutL\n",
    "        cut2 = total_len //2 - cut1\n",
    "        print('  cut1,cut2',cut1,cut2,type(cut1),type(cut2))\n",
    "        # value_when_true if condition else value_when_false\n",
    "        L1 = float('-inf') if (cut1 == 0) else nums1[cut1 - 1];print('   L1',L1,cut1)\n",
    "        L2 = float('-inf') if (cut2 == 0) else nums2[cut2 - 1];print('   L2',L2)\n",
    "        R1 = float('inf') if (cut1 == len(nums1)) else nums1[cut1];print('   R1',R1)\n",
    "        R2 = float('inf') if (cut2 == len(nums2)) else nums2[cut2];print('   R2',R2)\n",
    "        if L1 > R2:\n",
    "            cutR = cut1 - 1\n",
    "        elif L2 > R1:\n",
    "            cutL = cut1 + 1\n",
    "        else:\n",
    "            if total_len % 2 == 0:\n",
    "                L1 = L1 if L1 > L2 else L2\n",
    "                R1 = R1 if R1 < R2 else R2\n",
    "                print('  (L1 + R1)/2 ',L1, R1, type(L1),type(R1))\n",
    "                return (L1 + R1)/2\n",
    "            else:\n",
    "                R1 = R1 if R1 < R2 else R2\n",
    "                return R1"
   ]
  },
  {
   "cell_type": "code",
   "execution_count": 71,
   "metadata": {},
   "outputs": [
    {
     "name": "stdout",
     "output_type": "stream",
     "text": [
      "  cut1,cut2 1 1 <class 'int'> <class 'int'>\n",
      "   L1 1 1\n",
      "   L2 3\n",
      "   R1 2\n",
      "   R2 4\n",
      "  cut1,cut2 2 0 <class 'int'> <class 'int'>\n",
      "   L1 2 2\n",
      "   L2 -inf\n",
      "   R1 inf\n",
      "   R2 3\n",
      "  (L1 + R1)/2  2 3 <class 'int'> <class 'int'>\n",
      "     2.5\n"
     ]
    }
   ],
   "source": [
    "y = findMedianSortedArrays(nums1,nums2)\n",
    "print('    ',y)"
   ]
  },
  {
   "cell_type": "code",
   "execution_count": 82,
   "metadata": {},
   "outputs": [
    {
     "data": {
      "text/plain": [
       "2"
      ]
     },
     "execution_count": 82,
     "metadata": {},
     "output_type": "execute_result"
    }
   ],
   "source": [
    "round(2.50)"
   ]
  },
  {
   "cell_type": "markdown",
   "metadata": {},
   "source": [
    "# 33. Search in Rotated Sorted Array"
   ]
  },
  {
   "cell_type": "code",
   "execution_count": 87,
   "metadata": {},
   "outputs": [],
   "source": [
    "nums = [4,5,6,7,0,1,2]\n",
    "target = 0"
   ]
  },
  {
   "cell_type": "code",
   "execution_count": 88,
   "metadata": {},
   "outputs": [],
   "source": [
    "def find_rotate_index(left, right):\n",
    "    if nums[left] < nums[right]:\n",
    "        return 0\n",
    "\n",
    "    while left <= right:\n",
    "        pivot = (left + right) // 2\n",
    "        if nums[pivot] > nums[pivot + 1]:\n",
    "            return pivot + 1\n",
    "        else:\n",
    "            if nums[pivot] < nums[left]:\n",
    "                right = pivot - 1\n",
    "            else:\n",
    "                left = pivot + 1\n",
    "                \n",
    "def search(left, right):\n",
    "    \"\"\"\n",
    "    Binary search\n",
    "    \"\"\"\n",
    "    while left <= right:\n",
    "        pivot = (left + right) // 2\n",
    "        if nums[pivot] == target:\n",
    "            return pivot\n",
    "        else:\n",
    "            if target < nums[pivot]:\n",
    "                right = pivot - 1\n",
    "            else:\n",
    "                left = pivot + 1\n",
    "    return -1"
   ]
  },
  {
   "cell_type": "code",
   "execution_count": 92,
   "metadata": {},
   "outputs": [
    {
     "name": "stdout",
     "output_type": "stream",
     "text": [
      "  rotate_index 4\n",
      "     search(rotate_index, n - 1) 4\n",
      "     search(0, rotate_index) -1\n"
     ]
    }
   ],
   "source": [
    "n = len(nums)\n",
    "\n",
    "if n == 0:\n",
    "    print('   -1-1-1', -1)\n",
    "if n == 1:\n",
    "    print('    ----', 0 if nums[0] == target else -1 )\n",
    "\n",
    "rotate_index = find_rotate_index(0, n - 1)\n",
    "\n",
    "# if target is the smallest element\n",
    "if nums[rotate_index] == target:\n",
    "    print ('  rotate_index',rotate_index)\n",
    "# if array is not rotated, search in the entire array\n",
    "if rotate_index == 0:\n",
    "    print ( '   search(0, n - 1)', search(0, n - 1))\n",
    "if target < nums[0]:\n",
    "    # search on the right side\n",
    "    print ('     search(rotate_index, n - 1)',  search(rotate_index, n - 1))\n",
    "# search on the left side\n",
    "print ('     search(0, rotate_index)', search(0, rotate_index))"
   ]
  },
  {
   "cell_type": "markdown",
   "metadata": {},
   "source": [
    "# 81. Search in Rotated Sorted Array II"
   ]
  },
  {
   "cell_type": "markdown",
   "metadata": {},
   "source": [
    "Suppose an array sorted in ascending order is rotated at some pivot unknown to you beforehand. <br>\n",
    "\n",
    "(i.e., [0,0,1,2,2,5,6] might become [2,5,6,0,0,1,2]).<br>\n",
    "\n",
    "You are given a target value to search. If found in the array return true, otherwise return false."
   ]
  },
  {
   "cell_type": "code",
   "execution_count": null,
   "metadata": {},
   "outputs": [],
   "source": [
    "class Solution:\n",
    "    def search(self, nums: List[int], target: int) -> int:\n",
    "        start, end = 0, len(nums) - 1\n",
    "        while start <= end:\n",
    "            mid = start + (end - start) // 2\n",
    "            if nums[mid] == target:\n",
    "                return mid\n",
    "            elif nums[mid] >= nums[start]:\n",
    "                if target >= nums[start] and target < nums[mid]:\n",
    "                    end = mid - 1\n",
    "                else:\n",
    "                    start = mid + 1\n",
    "            else:\n",
    "                if target <= nums[end] and target > nums[mid]: \n",
    "                    start = mid + 1\n",
    "                else:\n",
    "                    end = mid - 1\n",
    "        return -1"
   ]
  },
  {
   "cell_type": "markdown",
   "metadata": {},
   "source": [
    "# 56. Merge Intervals"
   ]
  },
  {
   "cell_type": "code",
   "execution_count": 122,
   "metadata": {},
   "outputs": [],
   "source": [
    "intervals = [[1,3],[2,6],[8,10],[15,18]]"
   ]
  },
  {
   "cell_type": "markdown",
   "metadata": {},
   "source": [
    "## 扫描线法"
   ]
  },
  {
   "cell_type": "code",
   "execution_count": 123,
   "metadata": {},
   "outputs": [
    {
     "name": "stdout",
     "output_type": "stream",
     "text": [
      "      [1, 3]\n",
      "      [2, 6]\n",
      "      [8, 10]\n",
      "      [15, 18]\n"
     ]
    }
   ],
   "source": [
    "intervals.sort(key=lambda x: x[0])\n",
    "for interval in intervals:\n",
    "    print('     ',interval)"
   ]
  },
  {
   "cell_type": "code",
   "execution_count": 132,
   "metadata": {},
   "outputs": [],
   "source": [
    "a = []\n",
    "a.append(intervals[0])"
   ]
  },
  {
   "cell_type": "code",
   "execution_count": 97,
   "metadata": {},
   "outputs": [],
   "source": [
    "class Solution:\n",
    "    def merge(self, intervals):\n",
    "\n",
    "        intervals.sort(key=lambda x: x[0])\n",
    "\n",
    "        merged = []\n",
    "        for interval in intervals:\n",
    "            # if the list of merged intervals is empty or if the current\n",
    "            # interval does not overlap with the previous, simply append it.\n",
    "            if not merged or merged[-1][1] < interval[0]:\n",
    "                merged.append(interval)\n",
    "            else:\n",
    "            # otherwise, there is overlap, so we merge the current and previous\n",
    "            # intervals.\n",
    "                merged[-1][1] = max(merged[-1][1], interval[1])\n",
    "\n",
    "        return merged"
   ]
  },
  {
   "cell_type": "code",
   "execution_count": 98,
   "metadata": {},
   "outputs": [],
   "source": [
    "solu = Solution()\n",
    "y = solu.merge(intervals)"
   ]
  },
  {
   "cell_type": "code",
   "execution_count": 99,
   "metadata": {},
   "outputs": [
    {
     "name": "stdout",
     "output_type": "stream",
     "text": [
      "     [[1, 6], [8, 10], [15, 18]]\n"
     ]
    }
   ],
   "source": [
    "print('    ',y)"
   ]
  },
  {
   "cell_type": "markdown",
   "metadata": {},
   "source": [
    "# 451. Sort Characters By Frequency"
   ]
  },
  {
   "cell_type": "code",
   "execution_count": 158,
   "metadata": {},
   "outputs": [],
   "source": [
    "s = \"tree\""
   ]
  },
  {
   "cell_type": "markdown",
   "metadata": {},
   "source": [
    "## Approach 2: HashMap and Sort"
   ]
  },
  {
   "cell_type": "markdown",
   "metadata": {},
   "source": [
    "Time Complexity : O(nlogn) OR O(n+klogk). <br>\n",
    "Space Complexity : O(n)"
   ]
  },
  {
   "cell_type": "code",
   "execution_count": 137,
   "metadata": {},
   "outputs": [],
   "source": [
    "import collections"
   ]
  },
  {
   "cell_type": "code",
   "execution_count": 150,
   "metadata": {},
   "outputs": [
    {
     "data": {
      "text/plain": [
       "'eetr'"
      ]
     },
     "execution_count": 150,
     "metadata": {},
     "output_type": "execute_result"
    }
   ],
   "source": [
    "class Solution(object):\n",
    "    def frequencySort(self, s):\n",
    "        \"\"\"\n",
    "        :type s: str\n",
    "        :rtype: str\n",
    "        \"\"\"\n",
    "        counts = collections.Counter(s)\n",
    "        outcome = []\n",
    "        for i, freq in counts.most_common():\n",
    "            outcome.append(i * freq)\n",
    "        return ''.join(outcome)"
   ]
  },
  {
   "cell_type": "code",
   "execution_count": 141,
   "metadata": {},
   "outputs": [
    {
     "data": {
      "text/plain": [
       "Counter({'t': 1, 'r': 1, 'e': 2})"
      ]
     },
     "execution_count": 141,
     "metadata": {},
     "output_type": "execute_result"
    }
   ],
   "source": [
    "counts"
   ]
  },
  {
   "cell_type": "code",
   "execution_count": 142,
   "metadata": {},
   "outputs": [
    {
     "data": {
      "text/plain": [
       "[('e', 2), ('t', 1), ('r', 1)]"
      ]
     },
     "execution_count": 142,
     "metadata": {},
     "output_type": "execute_result"
    }
   ],
   "source": [
    "counts.most_common()"
   ]
  },
  {
   "cell_type": "code",
   "execution_count": 145,
   "metadata": {},
   "outputs": [
    {
     "name": "stdout",
     "output_type": "stream",
     "text": [
      "      e 2\n",
      "      t 1\n",
      "      r 1\n"
     ]
    }
   ],
   "source": [
    "for i,t in counts.most_common():\n",
    "    print('     ',i,t)"
   ]
  },
  {
   "cell_type": "markdown",
   "metadata": {},
   "source": [
    "## Approach 3: Multiset and Bucket Sort"
   ]
  },
  {
   "cell_type": "code",
   "execution_count": 166,
   "metadata": {},
   "outputs": [
    {
     "name": "stdout",
     "output_type": "stream",
     "text": [
      "     t 1\n",
      "     r 1\n",
      "     e 2\n"
     ]
    }
   ],
   "source": [
    "if not s: return s\n",
    "counts = collections.Counter(s)\n",
    "most_f = max(counts.values())\n",
    "\n",
    "buckets = [[] for _ in range(most_f + 1)]\n",
    "for element, i in counts.items():\n",
    "    buckets[i].append(element)\n",
    "outcome = []\n",
    "for i in range(len(buckets)-1,0,-1):\n",
    "    for element in buckets[i]:\n",
    "        outcome.append(element * i)\n",
    "return ''.join(outcome)"
   ]
  },
  {
   "cell_type": "code",
   "execution_count": 153,
   "metadata": {},
   "outputs": [],
   "source": [
    "def frequencySort(s):\n",
    "    if not s: return s\n",
    "    \n",
    "    # Determine the frequency of each character.\n",
    "    counts = collections.Counter(s)\n",
    "    max_freq = max(counts.values())    \n",
    "    # Bucket sort the characters by frequency.\n",
    "    buckets = [[] for _ in range(max_freq + 1)]\n",
    "    for c, i in counts.items():\n",
    "        buckets[i].append(c)        \n",
    "    # Build up the string.\n",
    "    string_builder = []\n",
    "    for i in range(len(buckets) - 1, 0, -1):\n",
    "        for c in buckets[i]:\n",
    "            string_builder.append(c * i)\n",
    "            \n",
    "    return \"\".join(string_builder)"
   ]
  },
  {
   "cell_type": "code",
   "execution_count": 154,
   "metadata": {},
   "outputs": [
    {
     "data": {
      "text/plain": [
       "'eetr'"
      ]
     },
     "execution_count": 154,
     "metadata": {},
     "output_type": "execute_result"
    }
   ],
   "source": [
    "so = frequencySort(s)\n",
    "so\n"
   ]
  },
  {
   "cell_type": "markdown",
   "metadata": {},
   "source": [
    "# 692. Top K Frequent Words"
   ]
  },
  {
   "cell_type": "markdown",
   "metadata": {},
   "source": [
    "## Approach #1: Sorting "
   ]
  },
  {
   "cell_type": "code",
   "execution_count": 179,
   "metadata": {},
   "outputs": [],
   "source": [
    "words = [\"i\", \"love\", \"leetcode\", \"i\", \"love\", \"coding\"]\n",
    "k = 2"
   ]
  },
  {
   "cell_type": "code",
   "execution_count": 198,
   "metadata": {},
   "outputs": [],
   "source": [
    "class Solution(object):\n",
    "    def topKFrequent(self, words, k):\n",
    "        count = collections.Counter(words)\n",
    "        candidates = count.keys()\n",
    "        candidates.sort(key = lambda w: (-count[w], w))\n",
    "        return candidates[:k]"
   ]
  },
  {
   "cell_type": "code",
   "execution_count": 200,
   "metadata": {},
   "outputs": [],
   "source": [
    "so = Solution()\n",
    "y = so.topKFrequent(words, k)\n",
    "y"
   ]
  },
  {
   "cell_type": "code",
   "execution_count": 201,
   "metadata": {},
   "outputs": [
    {
     "data": {
      "text/plain": [
       "Counter({'i': 2, 'love': 2, 'leetcode': 1, 'coding': 1})"
      ]
     },
     "execution_count": 201,
     "metadata": {},
     "output_type": "execute_result"
    }
   ],
   "source": [
    "count = collections.Counter(words)\n",
    "candidates = count.keys()\n",
    "# candidates.sort(key = lambda w: (-count[w], w))\n",
    "count"
   ]
  },
  {
   "cell_type": "code",
   "execution_count": 197,
   "metadata": {},
   "outputs": [
    {
     "data": {
      "text/plain": [
       "dict_items([('i', 2), ('love', 2), ('leetcode', 1), ('coding', 1)])"
      ]
     },
     "execution_count": 197,
     "metadata": {},
     "output_type": "execute_result"
    }
   ],
   "source": [
    "count.items()"
   ]
  },
  {
   "cell_type": "code",
   "execution_count": 175,
   "metadata": {},
   "outputs": [
    {
     "data": {
      "text/plain": [
       "dict_keys(['i', 'love', 'leetcode', 'coding'])"
      ]
     },
     "execution_count": 175,
     "metadata": {},
     "output_type": "execute_result"
    }
   ],
   "source": [
    "count.keys()"
   ]
  }
 ],
 "metadata": {
  "kernelspec": {
   "display_name": "Python 3",
   "language": "python",
   "name": "python3"
  },
  "language_info": {
   "codemirror_mode": {
    "name": "ipython",
    "version": 3
   },
   "file_extension": ".py",
   "mimetype": "text/x-python",
   "name": "python",
   "nbconvert_exporter": "python",
   "pygments_lexer": "ipython3",
   "version": "3.7.6"
  }
 },
 "nbformat": 4,
 "nbformat_minor": 4
}
