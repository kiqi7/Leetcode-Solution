{
 "cells": [
  {
   "cell_type": "markdown",
   "metadata": {},
   "source": [
    "# Array and Strings"
   ]
  },
  {
   "cell_type": "markdown",
   "metadata": {},
   "source": [
    "## 1. Two Sum"
   ]
  },
  {
   "cell_type": "code",
   "execution_count": 2,
   "metadata": {},
   "outputs": [],
   "source": [
    "nums = [2,7,11,15]\n",
    "target = 9"
   ]
  },
  {
   "cell_type": "markdown",
   "metadata": {},
   "source": [
    "## Brute force"
   ]
  },
  {
   "cell_type": "markdown",
   "metadata": {},
   "source": [
    "Time complexity : O(n^2) For each element, we try to find its complement by looping through the rest of array which takes O(n) time. Therefore, the time complexity is O(n^2) <br>\n",
    "\n",
    "Space complexity : O(1)O(1)."
   ]
  },
  {
   "cell_type": "code",
   "execution_count": 28,
   "metadata": {},
   "outputs": [],
   "source": [
    "class Solution(object):\n",
    "    def twoSum(self, nums, target):\n",
    "        for i in range(len(nums)):\n",
    "            for j in range(1,len(nums)):\n",
    "                if nums[j] == target - nums[i]:\n",
    "                    return([i,j])\n",
    "                j = j + 1\n",
    "            i = i + 1"
   ]
  },
  {
   "cell_type": "code",
   "execution_count": 34,
   "metadata": {},
   "outputs": [
    {
     "name": "stdout",
     "output_type": "stream",
     "text": [
      "[0, 1]\n"
     ]
    }
   ],
   "source": [
    "solu = Solution()\n",
    "res = solu.twoSum(nums,target)\n",
    "print(res)"
   ]
  },
  {
   "cell_type": "code",
   "execution_count": null,
   "metadata": {},
   "outputs": [],
   "source": [
    "# Two-pass Hash Table"
   ]
  },
  {
   "cell_type": "code",
   "execution_count": null,
   "metadata": {},
   "outputs": [],
   "source": []
  },
  {
   "cell_type": "code",
   "execution_count": null,
   "metadata": {},
   "outputs": [],
   "source": [
    "public int[] twoSum(int[] nums, int target) {\n",
    "    Map<Integer, Integer> map = new HashMap<>();\n",
    "    for (int i = 0; i < nums.length; i++) {\n",
    "        map.put(nums[i], i);\n",
    "    }\n",
    "    for (int i = 0; i < nums.length; i++) {\n",
    "        int complement = target - nums[i];\n",
    "        if (map.containsKey(complement) && map.get(complement) != i) {\n",
    "            return new int[] { i, map.get(complement) };\n",
    "        }\n",
    "    }\n",
    "    throw new IllegalArgumentException(\"No two sum solution\");\n",
    "}"
   ]
  },
  {
   "cell_type": "code",
   "execution_count": 33,
   "metadata": {},
   "outputs": [],
   "source": [
    "# One-pass Hash Table\n",
    "# Time complexity : O(n). \n",
    "# We traverse the list containing nn elements only once.\n",
    "# Each look up in the table costs only O(1) time.\n",
    "\n",
    "# Space complexity : O(n). \n",
    "# The extra space required depends on the number of items stored in the hash table, \n",
    "# which stores at most nn elements.\n",
    "\n",
    "class Solution(object):\n",
    "    def twoSum(self, nums, target):\n",
    "        h = {}\n",
    "        for i, num in enumerate(nums):\n",
    "            n = target - num\n",
    "            if n not in h:\n",
    "                h[num] = i\n",
    "            else:\n",
    "                return [h[n], i]"
   ]
  },
  {
   "cell_type": "markdown",
   "metadata": {},
   "source": [
    "# 167. Two Sum II - Input array is sorted"
   ]
  },
  {
   "cell_type": "markdown",
   "metadata": {},
   "source": [
    "给定一个已按照升序排列 的有序数组，找到两个数使得它们相加之和等于目标数。"
   ]
  },
  {
   "cell_type": "code",
   "execution_count": 25,
   "metadata": {},
   "outputs": [],
   "source": [
    "nums = [2,7,11,15]\n",
    "target = 9"
   ]
  },
  {
   "cell_type": "code",
   "execution_count": 24,
   "metadata": {},
   "outputs": [],
   "source": [
    "class Solution(object):\n",
    "    def twoSum(self, numbers, target):\n",
    "        \"\"\"\n",
    "        :type numbers: List[int]\n",
    "        :type target: int\n",
    "        :rtype: List[int]\n",
    "        \"\"\"\n",
    "        left = 0\n",
    "        right = len(numbers)-1      \n",
    "        while left < right:\n",
    "            if numbers[left] + numbers[right] == target:                \n",
    "                return [left+1, right+1]\n",
    "            elif numbers[left] + numbers[right] < target:\n",
    "                left = left + 1\n",
    "            else:\n",
    "                right = right - 1"
   ]
  },
  {
   "cell_type": "code",
   "execution_count": 27,
   "metadata": {},
   "outputs": [
    {
     "name": "stdout",
     "output_type": "stream",
     "text": [
      "     [1, 2]\n"
     ]
    }
   ],
   "source": [
    "solu = Solution()\n",
    "results = solu.twoSum(nums,target)\n",
    "print('    ',results)"
   ]
  },
  {
   "cell_type": "markdown",
   "metadata": {},
   "source": [
    "## 3Sum"
   ]
  },
  {
   "cell_type": "code",
   "execution_count": 44,
   "metadata": {},
   "outputs": [],
   "source": [
    "nums = [-1,0,1,2,-1,-4]"
   ]
  },
  {
   "cell_type": "code",
   "execution_count": 22,
   "metadata": {},
   "outputs": [
    {
     "name": "stdout",
     "output_type": "stream",
     "text": [
      "[-4, -1, -1, 0, 1, 2]\n"
     ]
    }
   ],
   "source": [
    "nums.sort()\n",
    "print(nums)"
   ]
  },
  {
   "cell_type": "markdown",
   "metadata": {},
   "source": [
    "Approach 1: Two Pointers //\n",
    "Time Complexity: O(n^2). twoSumII is O(n), and we call it n times.\n",
    "\n",
    "Sorting the array takes O(nlogn), so overall complexity is O(nlogn+n^2). This is asymptotically equivalent to O(n^2).\n",
    "\n",
    "Space Complexity: from O(logn) to O(n), depending on the implementation of the sorting algorithm. For the purpose of complexity analysis, we ignore the memory required for the output"
   ]
  },
  {
   "cell_type": "code",
   "execution_count": 4,
   "metadata": {},
   "outputs": [],
   "source": [
    "# Original solution\n",
    "class Solution:\n",
    "    def threeSum(self, nums):\n",
    "        res = []\n",
    "        nums.sort()\n",
    "        for i in range(len(nums)):\n",
    "            if nums[i] > 0:\n",
    "                break\n",
    "            if i == 0 or nums[i - 1] != nums[i]:\n",
    "                self.twoSumII(nums, i, res)\n",
    "        return res\n",
    "\n",
    "    def twoSumII(self, nums, i, res):\n",
    "        lo, hi = i + 1, len(nums) - 1\n",
    "        while (lo < hi):\n",
    "            sum = nums[i] + nums[lo] + nums[hi]\n",
    "            if sum < 0 or (lo > i + 1 and nums[lo] == nums[lo - 1]):\n",
    "                lo += 1\n",
    "            elif sum > 0 or (hi < len(nums) - 1 and nums[hi] == nums[hi + 1]):\n",
    "                hi -= 1\n",
    "            else:\n",
    "                res.append([nums[i], nums[lo], nums[hi]])\n",
    "                lo += 1\n",
    "                hi -= 1\n"
   ]
  },
  {
   "cell_type": "code",
   "execution_count": 169,
   "metadata": {},
   "outputs": [],
   "source": [
    "# practice\n",
    "class Solution(object):\n",
    "    def threesum(self,nums):\n",
    "        res = []\n",
    "        nums.sort()\n",
    "        for i in range(len(nums)):\n",
    "            if nums[i] > 0:\n",
    "                break\n",
    "            if i ==0 or nums[i - 1] != nums[i]:\n",
    "                self.twosums(i,nums,res)\n",
    "        return res\n",
    "\n",
    "    def twosums(self,i,nums,res):\n",
    "        left = i+1\n",
    "        right = len(nums) - 1\n",
    "        while (left < right):\n",
    "            Accumulate = nums[i] + nums[left] + nums[right]\n",
    "            if Accumulate < 0 or (left > i + 1 and nums[left] == nums[left - 1]):\n",
    "                left +=1\n",
    "            elif Accumulate >0 or (right < len(nums) - 1 and nums[right] == nums[right + 1]):\n",
    "                right -=1\n",
    "            else:\n",
    "                res.append([nums[i],nums[left],nums[right]])\n",
    "                left += 1\n",
    "                right -= 1\n"
   ]
  },
  {
   "cell_type": "code",
   "execution_count": 170,
   "metadata": {},
   "outputs": [
    {
     "name": "stdout",
     "output_type": "stream",
     "text": [
      "[[-1, -1, 2], [-1, 0, 1]]\n"
     ]
    }
   ],
   "source": [
    "solu = Solution()\n",
    "resu = solu.threesum(nums)\n",
    "print(resu)"
   ]
  },
  {
   "cell_type": "markdown",
   "metadata": {},
   "source": [
    "Approach 2: Hash Set"
   ]
  },
  {
   "cell_type": "code",
   "execution_count": 29,
   "metadata": {},
   "outputs": [],
   "source": [
    "class Solution:\n",
    "    def threeSum(self, nums):\n",
    "        res = []\n",
    "        found, dups = set(), set()\n",
    "        seen = {}\n",
    "        for i, val1 in enumerate(nums):\n",
    "            if val1 not in dups:\n",
    "                dups.add(val1) # get unique value\n",
    "                for j, val2 in enumerate(nums[i+1:]):\n",
    "                    complement = -val1 - val2\n",
    "                    if complement in seen and seen[complement] == i:\n",
    "                        min_val = min((val1, val2, complement))\n",
    "                        max_val = max((val1, val2, complement))\n",
    "                        if (min_val, max_val) not in found:\n",
    "                            found.add((min_val, max_val))\n",
    "                            res.append([val1, val2, complement])\n",
    "                    seen[val2] = i\n",
    "        return res"
   ]
  },
  {
   "cell_type": "markdown",
   "metadata": {},
   "source": [
    "# Longest Substring Without Repeating Characters\n"
   ]
  },
  {
   "cell_type": "code",
   "execution_count": 171,
   "metadata": {},
   "outputs": [],
   "source": [
    "s = 'abcabcbb'"
   ]
  },
  {
   "cell_type": "code",
   "execution_count": 227,
   "metadata": {},
   "outputs": [
    {
     "name": "stdout",
     "output_type": "stream",
     "text": [
      "   num 1\n",
      "   maxlength 0\n",
      "----- maxlength 1\n",
      "   num 2\n",
      "   maxlength 1\n",
      "----- maxlength 2\n",
      "  sums 2\n",
      "   dicts {'p': 0, 'w': 1}\n",
      "   num 1\n",
      "   maxlength 2\n",
      "----- maxlength 2\n",
      "   num 2\n",
      "   maxlength 2\n",
      "----- maxlength 2\n",
      "   num 3\n",
      "   maxlength 2\n",
      "----- maxlength 3\n",
      "  sums 3\n",
      "   dicts {'p': 0, 'w': 2, 'k': 3, 'e': 4}\n",
      "   num 3\n",
      "   maxlength 3\n",
      "----- maxlength 3\n"
     ]
    }
   ],
   "source": [
    "dicts = {}\n",
    "maxlength = start = 0\n",
    "for i,value in enumerate(s):\n",
    "    if value in dicts:\n",
    "        sums = dicts[value] + 1\n",
    "        print('  sums',sums)\n",
    "        print('   dicts',dicts)\n",
    "        if sums > start:\n",
    "            start = sums\n",
    "    num = i - start + 1\n",
    "    print('   num',num)\n",
    "    print('   maxlength',maxlength)\n",
    "    if num > maxlength:\n",
    "        maxlength = num\n",
    "    print('----- maxlength',maxlength)\n",
    "    dicts[value] = i"
   ]
  },
  {
   "cell_type": "code",
   "execution_count": 226,
   "metadata": {},
   "outputs": [
    {
     "name": "stdout",
     "output_type": "stream",
     "text": [
      "   curr_max   1\n",
      "       {'p': 0}\n",
      "   curr_max   2\n",
      "       {'p': 0, 'w': 1}\n",
      "  max_so_far 2\n",
      "    dct[i] 1 w\n",
      "       {'p': 0, 'w': 2}\n",
      "   curr_max   2\n",
      "       {'p': 0, 'w': 2, 'k': 3}\n",
      "   curr_max   3\n",
      "       {'p': 0, 'w': 2, 'k': 3, 'e': 4}\n",
      "  max_so_far 3\n",
      "    dct[i] 2 w\n",
      "       {'p': 0, 'w': 5, 'k': 3, 'e': 4}\n",
      "            3\n"
     ]
    }
   ],
   "source": [
    "dct = {}\n",
    "max_so_far = curr_max = start = 0\n",
    "for index, i in enumerate(s):\n",
    "    if i in dct and dct[i] >= start:\n",
    "        max_so_far = max(max_so_far, curr_max)\n",
    "        print('  max_so_far',max_so_far)\n",
    "        curr_max = index - dct[i]\n",
    "        print('    dct[i]', dct[i],i)\n",
    "        start = dct[i] + 1\n",
    "    else:\n",
    "        curr_max += 1\n",
    "        print('   curr_max  ',curr_max)\n",
    "    dct[i] = index\n",
    "    print('      ',dct)\n",
    "print('           ',max(max_so_far, curr_max))"
   ]
  },
  {
   "cell_type": "code",
   "execution_count": null,
   "metadata": {},
   "outputs": [],
   "source": [
    "public class Solution {\n",
    "    public int lengthOfLongestSubstring(String s) {\n",
    "        int n = s.length();\n",
    "        Set<Character> set = new HashSet<>();\n",
    "        int ans = 0, i = 0, j = 0;\n",
    "        while (i < n && j < n) {\n",
    "            // try to extend the range [i, j]\n",
    "            if (!set.contains(s.charAt(j))){\n",
    "                set.add(s.charAt(j++));\n",
    "                ans = Math.max(ans, j - i);\n",
    "            }\n",
    "            else {\n",
    "                set.remove(s.charAt(i++));\n",
    "            } }\n",
    "        return ans;    }}"
   ]
  },
  {
   "cell_type": "code",
   "execution_count": 1,
   "metadata": {},
   "outputs": [
    {
     "ename": "NameError",
     "evalue": "name 'string' is not defined",
     "output_type": "error",
     "traceback": [
      "\u001b[0;31m---------------------------------------------------------------------------\u001b[0m",
      "\u001b[0;31mNameError\u001b[0m                                 Traceback (most recent call last)",
      "\u001b[0;32m<ipython-input-1-3d011c6b7fa3>\u001b[0m in \u001b[0;36m<module>\u001b[0;34m\u001b[0m\n\u001b[1;32m      3\u001b[0m         \u001b[0;31m# Last occurrence of first\u001b[0m\u001b[0;34m\u001b[0m\u001b[0;34m\u001b[0m\u001b[0;34m\u001b[0m\u001b[0m\n\u001b[1;32m      4\u001b[0m         \u001b[0;31m# character is index 0\u001b[0m\u001b[0;34m\u001b[0m\u001b[0;34m\u001b[0m\u001b[0;34m\u001b[0m\u001b[0m\n\u001b[0;32m----> 5\u001b[0;31m \u001b[0mpos\u001b[0m\u001b[0;34m[\u001b[0m\u001b[0mstring\u001b[0m\u001b[0;34m[\u001b[0m\u001b[0;36m0\u001b[0m\u001b[0;34m]\u001b[0m\u001b[0;34m]\u001b[0m \u001b[0;34m=\u001b[0m \u001b[0;36m0\u001b[0m\u001b[0;34m\u001b[0m\u001b[0;34m\u001b[0m\u001b[0m\n\u001b[0m",
      "\u001b[0;31mNameError\u001b[0m: name 'string' is not defined"
     ]
    }
   ],
   "source": [
    "pos = {}  \n",
    "\n",
    "        # Last occurrence of first \n",
    "        # character is index 0  \n",
    "pos[string[0]] = 0"
   ]
  },
  {
   "cell_type": "code",
   "execution_count": 201,
   "metadata": {},
   "outputs": [
    {
     "name": "stdout",
     "output_type": "stream",
     "text": [
      "          end  1\n",
      "   dic {'b': 1}\n",
      "longest 0\n",
      "   dic {'b': 1}\n",
      "longest 0\n",
      "   dic {'b': 1}\n",
      "longest 0\n",
      "   dic {'b': 1}\n",
      "longest 0\n",
      "   dic {'b': 1}\n",
      "longest 0\n",
      "   dic {'b': 1}\n",
      "longest 0\n",
      "   dic {'b': 1}\n",
      "longest 0\n",
      "   dic {'b': 1}\n",
      "longest 0\n",
      "   dic {'b': 1}\n"
     ]
    }
   ],
   "source": [
    "dic = {}\n",
    "start = 0\n",
    "longest = 0\n",
    "start = 0; end =0\n",
    "while (start < len(s) and end <len(s)-1):\n",
    "    if s[end] in dic:\n",
    "#         dic[s[start]] = start\n",
    "        start +=1\n",
    "        longest = max(longest, end - start)\n",
    "        print('longest',longest)\n",
    "    else:\n",
    "        cur_len = end - start + 1\n",
    "        end += 1\n",
    "        print('          end ',end)\n",
    "        dic[s[end]] = end\n",
    "    print('   dic',dic)"
   ]
  },
  {
   "cell_type": "code",
   "execution_count": 197,
   "metadata": {},
   "outputs": [
    {
     "data": {
      "text/plain": [
       "'abcabcbb'"
      ]
     },
     "execution_count": 197,
     "metadata": {},
     "output_type": "execute_result"
    }
   ],
   "source": [
    "s"
   ]
  },
  {
   "cell_type": "code",
   "execution_count": 225,
   "metadata": {},
   "outputs": [],
   "source": [
    "s =\"pwwkew\""
   ]
  },
  {
   "cell_type": "code",
   "execution_count": 223,
   "metadata": {},
   "outputs": [],
   "source": [
    "dict = {}\n",
    "start = 0\n",
    "longest = 0"
   ]
  },
  {
   "cell_type": "code",
   "execution_count": 224,
   "metadata": {},
   "outputs": [
    {
     "name": "stdout",
     "output_type": "stream",
     "text": [
      "      1\n",
      "   {'p': 0}\n",
      "      2\n",
      "   {'p': 0, 'w': 1}\n",
      "      2\n",
      "   {'p': 0, 'w': 2}\n",
      "      3\n",
      "   {'p': 0, 'w': 2, 'k': 3}\n",
      "      4\n",
      "   {'p': 0, 'w': 2, 'k': 3, 'e': 4}\n",
      "      4\n",
      "   {'p': 0, 'w': 5, 'k': 3, 'e': 4}\n"
     ]
    }
   ],
   "source": [
    "for i, item in enumerate(s):\n",
    "    if item in dict:\n",
    "        start =1\n",
    "    cur_len = i - start +1 \n",
    "    print('     ',cur_len)\n",
    "    longest = max(longest,cur_len)\n",
    "    dict[item] = i\n",
    "    print('  ', dict)"
   ]
  },
  {
   "cell_type": "code",
   "execution_count": 217,
   "metadata": {},
   "outputs": [
    {
     "data": {
      "text/plain": [
       "4"
      ]
     },
     "execution_count": 217,
     "metadata": {},
     "output_type": "execute_result"
    }
   ],
   "source": [
    "longest"
   ]
  },
  {
   "cell_type": "code",
   "execution_count": null,
   "metadata": {},
   "outputs": [],
   "source": [
    "for i,value in enumerate(s):\n",
    "    if value in dicts:\n",
    "        sums = dicts[value] + 1\n",
    "        if sums > start:\n",
    "            start = sums\n",
    "    num = i - start + 1\n",
    "    if num > maxlength:\n",
    "        maxlength = num\n",
    "    dicts[value] = i"
   ]
  },
  {
   "cell_type": "code",
   "execution_count": null,
   "metadata": {},
   "outputs": [],
   "source": []
  },
  {
   "cell_type": "markdown",
   "metadata": {},
   "source": [
    "# Valid Anagram\n"
   ]
  },
  {
   "cell_type": "code",
   "execution_count": 274,
   "metadata": {},
   "outputs": [],
   "source": [
    "s = \"anagram\"\n",
    "t = \"nagaram\""
   ]
  },
  {
   "cell_type": "markdown",
   "metadata": {},
   "source": [
    "## Approach (Hash Table) "
   ]
  },
  {
   "cell_type": "code",
   "execution_count": 282,
   "metadata": {},
   "outputs": [],
   "source": [
    "class Solution(object):\n",
    "    def isAnagram(self, s, t):\n",
    "        \"\"\"\n",
    "        :type s: str\n",
    "        :type t: str\n",
    "        :rtype: bool\n",
    "        \"\"\"\n",
    "        if len(s) != len(t):\n",
    "            return False\n",
    "        dicts = {}\n",
    "        dicts = {k: dicts.setdefault(k, 0)  for k in s}\n",
    "        for i,item in enumerate (s):   \n",
    "            dicts[item] += 1\n",
    "            if t[i] not in dicts:\n",
    "                return False\n",
    "            dicts[t[i]] -= 1\n",
    "            \n",
    "        return all(x==0 for x in dicts.values())"
   ]
  },
  {
   "cell_type": "markdown",
   "metadata": {},
   "source": [
    "## Approach #1 (Sorting) "
   ]
  },
  {
   "cell_type": "code",
   "execution_count": null,
   "metadata": {},
   "outputs": [],
   "source": [
    "class Solution(object):\n",
    "    def isAnagram(self, s, t):\n",
    "        \"\"\"\n",
    "        :type s: str\n",
    "        :type t: str\n",
    "        :rtype: bool\n",
    "        \"\"\"\n",
    "        if len(s) != len(t):\n",
    "            return False\n",
    "        return sorted(s) == sorted(t)"
   ]
  },
  {
   "cell_type": "markdown",
   "metadata": {},
   "source": [
    "# 54. Spiral Matrix"
   ]
  },
  {
   "cell_type": "code",
   "execution_count": 283,
   "metadata": {},
   "outputs": [],
   "source": [
    "matrix = [[1,2,3],[4,5,6],[7,8,9]]"
   ]
  },
  {
   "cell_type": "code",
   "execution_count": null,
   "metadata": {},
   "outputs": [],
   "source": []
  },
  {
   "cell_type": "code",
   "execution_count": 285,
   "metadata": {},
   "outputs": [],
   "source": [
    "R, C = len(matrix), len(matrix[0])"
   ]
  },
  {
   "cell_type": "code",
   "execution_count": 286,
   "metadata": {},
   "outputs": [],
   "source": [
    "seen = [[False] * C for _ in matrix]"
   ]
  },
  {
   "cell_type": "code",
   "execution_count": 287,
   "metadata": {},
   "outputs": [
    {
     "data": {
      "text/plain": [
       "[[False, False, False], [False, False, False], [False, False, False]]"
      ]
     },
     "execution_count": 287,
     "metadata": {},
     "output_type": "execute_result"
    }
   ],
   "source": [
    "seen"
   ]
  },
  {
   "cell_type": "code",
   "execution_count": 299,
   "metadata": {},
   "outputs": [],
   "source": [
    "ret = []\n",
    "# if matrix == []:\n",
    "#     return ret\n",
    "ret.extend(matrix[0]) # 上侧\n",
    "new = [reversed(i) for i in matrix[1:]]\n",
    "# if new == []:\n",
    "#     return ret\n",
    "# r = self.spiralOrder([i for i in zip(*new)])\n",
    "# ret.extend(r)"
   ]
  },
  {
   "cell_type": "code",
   "execution_count": 290,
   "metadata": {},
   "outputs": [],
   "source": [
    "ret = []\n",
    "ret.extend(matrix[0])"
   ]
  },
  {
   "cell_type": "code",
   "execution_count": 298,
   "metadata": {},
   "outputs": [
    {
     "data": {
      "text/plain": [
       "3"
      ]
     },
     "execution_count": 298,
     "metadata": {},
     "output_type": "execute_result"
    }
   ],
   "source": [
    "len(matrix)"
   ]
  },
  {
   "cell_type": "code",
   "execution_count": 300,
   "metadata": {},
   "outputs": [
    {
     "data": {
      "text/plain": [
       "[<list_reverseiterator at 0x106078550>, <list_reverseiterator at 0x106078510>]"
      ]
     },
     "execution_count": 300,
     "metadata": {},
     "output_type": "execute_result"
    }
   ],
   "source": [
    "new"
   ]
  },
  {
   "cell_type": "code",
   "execution_count": 305,
   "metadata": {},
   "outputs": [],
   "source": [
    "row = len(matrix); column = len(matrix[0])\n",
    "ans = []"
   ]
  },
  {
   "cell_type": "code",
   "execution_count": 312,
   "metadata": {},
   "outputs": [
    {
     "data": {
      "text/plain": [
       "[[False, False, False], [False, False, False], [False, False, False]]"
      ]
     },
     "execution_count": 312,
     "metadata": {},
     "output_type": "execute_result"
    }
   ],
   "source": [
    "check_m = [[False] *column for _ in matrix]\n",
    "check_m"
   ]
  },
  {
   "cell_type": "code",
   "execution_count": 339,
   "metadata": {},
   "outputs": [
    {
     "name": "stdout",
     "output_type": "stream",
     "text": [
      "--------- 0\n",
      "    0 0\n",
      "--------- 1\n",
      "    0 1\n",
      "--------- 2\n",
      "    0 2\n",
      "--------- 3\n",
      "    1 2\n",
      "--------- 4\n",
      "    2 2\n",
      "--------- 5\n",
      "    2 1\n",
      "--------- 6\n",
      "    2 0\n",
      "--------- 7\n",
      "    1 0\n",
      "--------- 8\n",
      "    1 1\n"
     ]
    }
   ],
   "source": [
    "row = len(matrix); column = len(matrix[0])\n",
    "ans = []\n",
    "check_m = [[False] * column for _ in matrix]\n",
    "dr = [0, 1, 0, -1]\n",
    "dc = [1, 0, -1, 0]\n",
    "r = c = di = 0\n",
    "for _ in range(row * column):\n",
    "    print('---------', _)\n",
    "    print('   ', r,c)\n",
    "    ans.append(matrix[r][c])\n",
    "    check_m[r][c] = True\n",
    "    cr, cc = r + dr[di], c + dc[di]\n",
    "    if 0 <= cr < row and 0 <= cc <column and not check_m[cr][cc]:\n",
    "        r, c = cr, cc\n",
    "    else:\n",
    "        di = (di + 1) % 4\n",
    "        r, c = r + dr[di], c + dc[di]"
   ]
  },
  {
   "cell_type": "code",
   "execution_count": 337,
   "metadata": {},
   "outputs": [
    {
     "data": {
      "text/plain": [
       "[1, 2, 3, 6, 9, 8, 7, 4, 5]"
      ]
     },
     "execution_count": 337,
     "metadata": {},
     "output_type": "execute_result"
    }
   ],
   "source": [
    "ans"
   ]
  },
  {
   "cell_type": "code",
   "execution_count": null,
   "metadata": {},
   "outputs": [],
   "source": []
  },
  {
   "cell_type": "code",
   "execution_count": null,
   "metadata": {},
   "outputs": [],
   "source": [
    "class Solution(object):\n",
    "    def spiralOrder(self, matrix):\n",
    "        def spiral_coords(r1, c1, r2, c2):\n",
    "            for c in range(c1, c2 + 1):\n",
    "                yield r1, c\n",
    "            for r in range(r1 + 1, r2 + 1):\n",
    "                yield r, c2\n",
    "            if r1 < r2 and c1 < c2:\n",
    "                for c in range(c2 - 1, c1, -1):\n",
    "                    yield r2, c\n",
    "                for r in range(r2, r1, -1):\n",
    "                    yield r, c1\n",
    "\n",
    "        if not matrix: return []\n",
    "        ans = []\n",
    "        r1, r2 = 0, len(matrix) - 1\n",
    "        c1, c2 = 0, len(matrix[0]) - 1\n",
    "        while r1 <= r2 and c1 <= c2:\n",
    "            for r, c in spiral_coords(r1, c1, r2, c2):\n",
    "                ans.append(matrix[r][c])\n",
    "            r1 += 1; r2 -= 1\n",
    "            c1 += 1; c2 -= 1\n",
    "        return ans"
   ]
  },
  {
   "cell_type": "code",
   "execution_count": 4,
   "metadata": {},
   "outputs": [
    {
     "data": {
      "text/plain": [
       "{'l': 0, 'o': 0, 'v': 0, 'e': 0, 't': 0, 'c': 0, 'd': 0}"
      ]
     },
     "execution_count": 4,
     "metadata": {},
     "output_type": "execute_result"
    }
   ],
   "source": [
    "s = \"loveleetcode\"\n",
    "dicts = {el:0 for el in s}\n",
    "dicts"
   ]
  },
  {
   "cell_type": "markdown",
   "metadata": {},
   "source": [
    "# 88. Merge Sorted Array"
   ]
  },
  {
   "cell_type": "markdown",
   "metadata": {},
   "source": [
    "Given two sorted integer arrays nums1 and nums2, merge nums2 into nums1 as one sorted array."
   ]
  },
  {
   "cell_type": "code",
   "execution_count": 360,
   "metadata": {},
   "outputs": [],
   "source": [
    "nums1 = [1,2,3,0,0,0]; m = 3\n",
    "nums2 = [2,5,6];       n = 3"
   ]
  },
  {
   "cell_type": "markdown",
   "metadata": {},
   "source": [
    "## Approach 1 : Merge and sort"
   ]
  },
  {
   "cell_type": "code",
   "execution_count": 344,
   "metadata": {},
   "outputs": [],
   "source": [
    "#  complexity O((n+m)log(n+m))\n",
    "nums1[:] = sorted(nums1[:m] + nums2)"
   ]
  },
  {
   "cell_type": "code",
   "execution_count": 343,
   "metadata": {},
   "outputs": [
    {
     "data": {
      "text/plain": [
       "[1, 2, 2, 3, 5, 6]"
      ]
     },
     "execution_count": 343,
     "metadata": {},
     "output_type": "execute_result"
    }
   ],
   "source": [
    "nums1"
   ]
  },
  {
   "cell_type": "markdown",
   "metadata": {},
   "source": [
    "## Approach 2 : Two pointers / Start from the beginning"
   ]
  },
  {
   "cell_type": "markdown",
   "metadata": {},
   "source": [
    "Time complexity : O(n+m).<br>\n",
    "Space complexity : O(m)."
   ]
  },
  {
   "cell_type": "code",
   "execution_count": 353,
   "metadata": {},
   "outputs": [],
   "source": [
    "class Solution(object):\n",
    "    def merge(self, nums1, m, nums2, n):\n",
    "        # Make a copy of nums1.\n",
    "        nums1_copy = nums1[:m] \n",
    "        nums1[:] = []\n",
    "        # Two get pointers for nums1_copy and nums2.\n",
    "        p1 = 0 \n",
    "        p2 = 0\n",
    "        \n",
    "        # Compare elements from nums1_copy and nums2\n",
    "        # and add the smallest one into nums1.\n",
    "        while p1 < m and p2 < n: \n",
    "            if nums1_copy[p1] < nums2[p2]: \n",
    "                nums1.append(nums1_copy[p1])\n",
    "                p1 += 1\n",
    "            else:\n",
    "                nums1.append(nums2[p2])\n",
    "                p2 += 1\n",
    "        # if there are still elements to add\n",
    "        if p1 < m: \n",
    "            nums1[p1 + p2:] = nums1_copy[p1:]\n",
    "        if p2 < n:\n",
    "            nums1[p1 + p2:] = nums2[p2:]\n",
    "            \n",
    "        return nums1"
   ]
  },
  {
   "cell_type": "code",
   "execution_count": 354,
   "metadata": {},
   "outputs": [
    {
     "name": "stdout",
     "output_type": "stream",
     "text": [
      "      [1, 2, 2, 3, 5, 6]\n"
     ]
    }
   ],
   "source": [
    "solu  = Solution()\n",
    "y =solu.merge( nums1, m, nums2, n)\n",
    "print('     ',y)"
   ]
  },
  {
   "cell_type": "code",
   "execution_count": 356,
   "metadata": {},
   "outputs": [],
   "source": [
    "nums1_copy = nums1[:m] \n",
    "nums1[:] = []"
   ]
  },
  {
   "cell_type": "code",
   "execution_count": 357,
   "metadata": {},
   "outputs": [
    {
     "data": {
      "text/plain": [
       "[1, 2, 3]"
      ]
     },
     "execution_count": 357,
     "metadata": {},
     "output_type": "execute_result"
    }
   ],
   "source": [
    "nums1_copy"
   ]
  },
  {
   "cell_type": "code",
   "execution_count": 358,
   "metadata": {},
   "outputs": [
    {
     "data": {
      "text/plain": [
       "[]"
      ]
     },
     "execution_count": 358,
     "metadata": {},
     "output_type": "execute_result"
    }
   ],
   "source": [
    "nums1"
   ]
  },
  {
   "cell_type": "markdown",
   "metadata": {},
   "source": [
    "## Approach 3 : Two pointers / Start from the end"
   ]
  },
  {
   "cell_type": "markdown",
   "metadata": {},
   "source": [
    "Time complexity : O(n+m). <br>\n",
    "Space complexity : O(1)."
   ]
  },
  {
   "cell_type": "code",
   "execution_count": 361,
   "metadata": {},
   "outputs": [],
   "source": [
    "class Solution(object):\n",
    "    def merge(self, nums1, m, nums2, n):\n",
    "        # two get pointers for nums1 and nums2\n",
    "        p1 = m - 1\n",
    "        p2 = n - 1\n",
    "        # set pointer for nums1\n",
    "        p = m + n - 1      \n",
    "        # while there are still elements to compare\n",
    "        while p1 >= 0 and p2 >= 0:\n",
    "            if nums1[p1] < nums2[p2]:\n",
    "                nums1[p] = nums2[p2]\n",
    "                p2 -= 1\n",
    "            else:\n",
    "                nums1[p] =  nums1[p1]\n",
    "                p1 -= 1\n",
    "            p -= 1\n",
    "        \n",
    "        # add missing elements from nums2\n",
    "        nums1[:p2 + 1] = nums2[:p2 + 1]\n",
    "        return nums1"
   ]
  },
  {
   "cell_type": "code",
   "execution_count": 377,
   "metadata": {},
   "outputs": [],
   "source": [
    "nums1 = [1,3,5,0,0,0]; m = 3\n",
    "nums2 = [2,4,6];       n = 3"
   ]
  },
  {
   "cell_type": "code",
   "execution_count": 364,
   "metadata": {},
   "outputs": [
    {
     "name": "stdout",
     "output_type": "stream",
     "text": [
      "      [1, 2, 3, 4, 5, 6]\n"
     ]
    }
   ],
   "source": [
    "solu  = Solution()\n",
    "y =solu.merge( nums1, m, nums2, n)\n",
    "print('     ',y)"
   ]
  },
  {
   "cell_type": "code",
   "execution_count": 378,
   "metadata": {},
   "outputs": [],
   "source": [
    "po1 = m - 1\n",
    "po2 = n - 1\n",
    "p = m + n -1"
   ]
  },
  {
   "cell_type": "code",
   "execution_count": 379,
   "metadata": {},
   "outputs": [],
   "source": [
    "while po1 >=0 and po2 >=0:\n",
    "    if nums1[po1] < nums2[po2]:\n",
    "        nums1[p] = nums2[po2]\n",
    "        po2 -= 1\n",
    "    else:\n",
    "        nums1[p] = nums1[po1]\n",
    "        po1 -= 1\n",
    "    p -=1"
   ]
  },
  {
   "cell_type": "code",
   "execution_count": 380,
   "metadata": {},
   "outputs": [
    {
     "data": {
      "text/plain": [
       "[1, 2, 3, 4, 5, 6]"
      ]
     },
     "execution_count": 380,
     "metadata": {},
     "output_type": "execute_result"
    }
   ],
   "source": [
    "nums1"
   ]
  },
  {
   "cell_type": "markdown",
   "metadata": {},
   "source": [
    "# 118. Pascal's Triangle"
   ]
  },
  {
   "cell_type": "code",
   "execution_count": 382,
   "metadata": {},
   "outputs": [],
   "source": [
    "x = [1]"
   ]
  },
  {
   "cell_type": "markdown",
   "metadata": {},
   "source": [
    "## Approach 1: Dynamic Programming"
   ]
  },
  {
   "cell_type": "code",
   "execution_count": 385,
   "metadata": {},
   "outputs": [],
   "source": [
    "class Solution:\n",
    "    def generate(self, num_rows):\n",
    "        triangle = []\n",
    "\n",
    "        for row_num in range(num_rows):\n",
    "            # The first and last row elements are always 1.\n",
    "            row = [None for _ in range(row_num+1)]\n",
    "            row[0], row[-1] = 1, 1\n",
    "\n",
    "            # Each triangle element is equal to the sum of the elements\n",
    "            # above-and-to-the-left and above-and-to-the-right.\n",
    "            for j in range(1, len(row)-1):\n",
    "                row[j] = triangle[row_num-1][j-1] + triangle[row_num-1][j]\n",
    "\n",
    "            triangle.append(row)\n",
    "\n",
    "        return triangle"
   ]
  },
  {
   "cell_type": "code",
   "execution_count": 386,
   "metadata": {},
   "outputs": [
    {
     "name": "stdout",
     "output_type": "stream",
     "text": [
      "     [[1], [1, 1], [1, 2, 1], [1, 3, 3, 1], [1, 4, 6, 4, 1]]\n"
     ]
    }
   ],
   "source": [
    "solu  = Solution()\n",
    "y = solu.generate(5)\n",
    "print('    ',y)"
   ]
  },
  {
   "cell_type": "markdown",
   "metadata": {},
   "source": [
    "# 273. Integer to English Words"
   ]
  },
  {
   "cell_type": "code",
   "execution_count": null,
   "metadata": {},
   "outputs": [],
   "source": []
  },
  {
   "cell_type": "code",
   "execution_count": null,
   "metadata": {},
   "outputs": [],
   "source": [
    "class Solution:\n",
    "    def numberToWords(self, num):\n",
    "        \"\"\"\n",
    "        :type num: int\n",
    "        :rtype: str\n",
    "        \"\"\"\n",
    "        def one(num):\n",
    "            switcher = {\n",
    "                1: 'One',\n",
    "                2: 'Two',\n",
    "                3: 'Three',\n",
    "                4: 'Four',\n",
    "                5: 'Five',\n",
    "                6: 'Six',\n",
    "                7: 'Seven',\n",
    "                8: 'Eight',\n",
    "                9: 'Nine'\n",
    "            }\n",
    "            return switcher.get(num)\n",
    "\n",
    "        def two_less_20(num):\n",
    "            switcher = {\n",
    "                10: 'Ten',\n",
    "                11: 'Eleven',\n",
    "                12: 'Twelve',\n",
    "                13: 'Thirteen',\n",
    "                14: 'Fourteen',\n",
    "                15: 'Fifteen',\n",
    "                16: 'Sixteen',\n",
    "                17: 'Seventeen',\n",
    "                18: 'Eighteen',\n",
    "                19: 'Nineteen'\n",
    "            }\n",
    "            return switcher.get(num)\n",
    "        def ten(num):\n",
    "            switcher = {\n",
    "                2: 'Twenty',\n",
    "                3: 'Thirty',\n",
    "                4: 'Forty',\n",
    "                5: 'Fifty',\n",
    "                6: 'Sixty',\n",
    "                7: 'Seventy',\n",
    "                8: 'Eighty',\n",
    "                9: 'Ninety'\n",
    "            }\n",
    "            return switcher.get(num)\n",
    "\n",
    "        def two(num):\n",
    "            if not num:\n",
    "                return ''\n",
    "            elif num < 10:\n",
    "                return one(num)\n",
    "            elif num < 20:\n",
    "                return two_less_20(num)\n",
    "            else:\n",
    "                tenner = num // 10\n",
    "                rest = num - tenner * 10\n",
    "                return ten(tenner) + ' ' + one(rest) if rest else ten(tenner)\n",
    "        def three(num):\n",
    "            hundred = num // 100\n",
    "            rest = num - hundred * 100\n",
    "            if hundred and rest:\n",
    "                return one(hundred) + ' Hundred ' + two(rest) \n",
    "            elif not hundred and rest: \n",
    "                return two(rest)\n",
    "            elif hundred and not rest:\n",
    "                return one(hundred) + ' Hundred'\n",
    "        \n",
    "        billion = num // 1000000000\n",
    "        million = (num - billion * 1000000000) // 1000000\n",
    "        thousand = (num - billion * 1000000000 - million * 1000000) // 1000\n",
    "        rest = num - billion * 1000000000 - million * 1000000 - thousand * 1000\n",
    "        \n",
    "        if not num:\n",
    "            return 'Zero'\n",
    "        result = ''\n",
    "        if billion:        \n",
    "            result = three(billion) + ' Billion'\n",
    "        if million:\n",
    "            result += ' ' if result else ''    \n",
    "            result += three(million) + ' Million'\n",
    "        if thousand:\n",
    "            result += ' ' if result else ''\n",
    "            result += three(thousand) + ' Thousand'\n",
    "        if rest:\n",
    "            result += ' ' if result else ''\n",
    "            result += three(rest)\n",
    "        return result"
   ]
  },
  {
   "cell_type": "code",
   "execution_count": null,
   "metadata": {},
   "outputs": [],
   "source": []
  },
  {
   "cell_type": "markdown",
   "metadata": {},
   "source": [
    "# 283. Move Zeroes"
   ]
  },
  {
   "cell_type": "code",
   "execution_count": 405,
   "metadata": {},
   "outputs": [],
   "source": [
    "nums = [0,1,0,3,12]"
   ]
  },
  {
   "cell_type": "markdown",
   "metadata": {},
   "source": [
    "## Approach #2 (Space Optimal, Operation Sub-Optimal) "
   ]
  },
  {
   "cell_type": "markdown",
   "metadata": {},
   "source": [
    "Space Complexity : O(1). Only constant space is used.<br>\n",
    "\n",
    "Time Complexity: O(n). However, the total number of operations are still sub-optimal. The total operations (array writes) that code does is nn (Total number of elements).\n",
    "\n"
   ]
  },
  {
   "cell_type": "code",
   "execution_count": 403,
   "metadata": {},
   "outputs": [],
   "source": [
    "np = 0\n",
    "for i in range(len(nums)):\n",
    "    if nums[i] !=0:\n",
    "        nums[np] = nums[i]\n",
    "        np += 1\n",
    "nums[np:] = [0 for aa in nums[np:]]"
   ]
  },
  {
   "cell_type": "code",
   "execution_count": 404,
   "metadata": {},
   "outputs": [
    {
     "data": {
      "text/plain": [
       "[1, 3, 12, 0, 0]"
      ]
     },
     "execution_count": 404,
     "metadata": {},
     "output_type": "execute_result"
    }
   ],
   "source": [
    "nums"
   ]
  },
  {
   "cell_type": "markdown",
   "metadata": {},
   "source": [
    "## Approach #3 (Optimal)"
   ]
  },
  {
   "cell_type": "markdown",
   "metadata": {},
   "source": [
    "the code will maintain the following invariant:<br>\n",
    "\n",
    "All elements before the slow pointer (lastNonZeroFoundAt) are non-zeroes.<br>\n",
    "\n",
    "All elements between the current and slow pointer are zeroes.<br>\n",
    "\n",
    "Therefore, when we encounter a non-zero element, we need to swap elements pointed by current and slow pointer, then advance both pointers. If it's zero element, we just advance current pointer."
   ]
  },
  {
   "cell_type": "code",
   "execution_count": 417,
   "metadata": {},
   "outputs": [
    {
     "name": "stdout",
     "output_type": "stream",
     "text": [
      "      1\n",
      "     i 0\n"
     ]
    }
   ],
   "source": [
    "nums = [1]\n",
    "sl = 0\n",
    "for i in range(len(nums)):\n",
    "    print('     ',nums[i])\n",
    "    if nums[i] !=0:\n",
    "        nums[sl],nums[i] = nums[i],nums[sl]\n",
    "        sl += 1"
   ]
  },
  {
   "cell_type": "markdown",
   "metadata": {},
   "source": [
    "# 387. First Unique Character in a String"
   ]
  },
  {
   "cell_type": "code",
   "execution_count": 436,
   "metadata": {},
   "outputs": [],
   "source": [
    "s = \"leetcode\""
   ]
  },
  {
   "cell_type": "code",
   "execution_count": 445,
   "metadata": {},
   "outputs": [],
   "source": [
    "class Solution:\n",
    "    def firstUniqChar(self, s: str) -> int:\n",
    "        # build hash map : character and how often it appears\n",
    "        count = collections.Counter(s)\n",
    "        \n",
    "        # find the index\n",
    "        for idx, ch in enumerate(s):\n",
    "            if count[ch] == 1:\n",
    "                return idx     \n",
    "        return -1  "
   ]
  },
  {
   "cell_type": "code",
   "execution_count": 446,
   "metadata": {},
   "outputs": [],
   "source": [
    "class Solution(object):\n",
    "    def firstUniqChar(self, s):\n",
    "        dicts = {el:0 for el in s}\n",
    "        for i, item in enumerate(s):\n",
    "            dicts[item] += 1\n",
    "        for i, item in enumerate(s):\n",
    "            if dicts[item] == 1:  \n",
    "                return i\n",
    "        return -1"
   ]
  },
  {
   "cell_type": "code",
   "execution_count": 434,
   "metadata": {},
   "outputs": [
    {
     "data": {
      "text/plain": [
       "{'l': 3, 'e': 9, 't': 3, 'c': 3, 'o': 3, 'd': 3}"
      ]
     },
     "execution_count": 434,
     "metadata": {},
     "output_type": "execute_result"
    }
   ],
   "source": [
    "dicts"
   ]
  },
  {
   "cell_type": "code",
   "execution_count": null,
   "metadata": {},
   "outputs": [],
   "source": [
    "Dict = dict((x.strip(), int(y.strip())) for x, y in (element.split('-') for element in string.split(', '))) "
   ]
  },
  {
   "cell_type": "markdown",
   "metadata": {},
   "source": [
    "# 443. String Compression"
   ]
  },
  {
   "cell_type": "code",
   "execution_count": 16,
   "metadata": {},
   "outputs": [],
   "source": [
    "chars = [\"a\",\"a\",\"b\",\"b\",\"c\",\"c\",\"c\"]"
   ]
  },
  {
   "cell_type": "markdown",
   "metadata": {},
   "source": [
    "## Approach #1: Read and Write Heads"
   ]
  },
  {
   "cell_type": "markdown",
   "metadata": {},
   "source": [
    "Time Complexity: O(N), where NN is the length of chars.<br>\n",
    "\n",
    "Space Complexity: O(1), the space used by read, write, and anchor."
   ]
  },
  {
   "cell_type": "code",
   "execution_count": null,
   "metadata": {},
   "outputs": [],
   "source": [
    "class Solution(object):\n",
    "    def compress(self, chars):\n",
    "        anchor = write = 0\n",
    "        for read, c in enumerate(chars):\n",
    "            if read + 1 == len(chars) or chars[read + 1] != c:\n",
    "                chars[write] = chars[anchor]\n",
    "                write += 1\n",
    "                if read > anchor:\n",
    "                    for digit in str(read - anchor + 1):\n",
    "                        chars[write] = digit\n",
    "                        write += 1\n",
    "                anchor = read + 1\n",
    "        return write"
   ]
  },
  {
   "cell_type": "code",
   "execution_count": 14,
   "metadata": {},
   "outputs": [
    {
     "name": "stdout",
     "output_type": "stream",
     "text": [
      "    r,a 1 0\n",
      "     2\n",
      "    r,a 3 2\n",
      "     2\n",
      "    r,a 6 4\n",
      "     3\n"
     ]
    }
   ],
   "source": [
    "anchor = write = 0\n",
    "for read, c in enumerate(chars):\n",
    "    if read + 1 == len(chars) or chars[read + 1] != c:\n",
    "        chars[write] = chars[anchor]\n",
    "        write += 1\n",
    "        if read > anchor:\n",
    "            for digit in str(read - anchor + 1):\n",
    "                print('    r,a',read,anchor)\n",
    "                print('    ',digit)\n",
    "                chars[write] = digit\n",
    "                write += 1\n",
    "        anchor = read + 1"
   ]
  },
  {
   "cell_type": "code",
   "execution_count": 19,
   "metadata": {},
   "outputs": [],
   "source": [
    "alpha = write = 0\n",
    "for p,item in enumerate(chars):\n",
    "    if p + 1 == len(chars) or chars[p + 1] != item:\n",
    "        chars[write] = chars[alpha]\n",
    "        write += 1\n",
    "        if p > alpha:\n",
    "            for digit in str(p - alpha +1):\n",
    "                chars[write] = digit\n",
    "                write +=1\n",
    "        alpha = p +1"
   ]
  },
  {
   "cell_type": "code",
   "execution_count": null,
   "metadata": {},
   "outputs": [],
   "source": []
  },
  {
   "cell_type": "markdown",
   "metadata": {},
   "source": [
    "# 560. Subarray Sum Equals K"
   ]
  },
  {
   "cell_type": "markdown",
   "metadata": {},
   "source": [
    "## Approach #1: Ad-Hoc"
   ]
  },
  {
   "cell_type": "code",
   "execution_count": null,
   "metadata": {},
   "outputs": [],
   "source": [
    "class Solution(object):\n",
    "    def candyCrush(self, board):\n",
    "        R, C = len(board), len(board[0])\n",
    "        todo = False\n",
    "\n",
    "        for r in xrange(R):\n",
    "            for c in xrange(C-2):\n",
    "                if abs(board[r][c]) == abs(board[r][c+1]) == abs(board[r][c+2]) != 0:\n",
    "                    board[r][c] = board[r][c+1] = board[r][c+2] = -abs(board[r][c])\n",
    "                    todo = True\n",
    "\n",
    "        for r in xrange(R-2):\n",
    "            for c in xrange(C):\n",
    "                if abs(board[r][c]) == abs(board[r+1][c]) == abs(board[r+2][c]) != 0:\n",
    "                    board[r][c] = board[r+1][c] = board[r+2][c] = -abs(board[r][c])\n",
    "                    todo = True\n",
    "\n",
    "        for c in xrange(C):\n",
    "            wr = R-1\n",
    "            for r in xrange(R-1, -1, -1):\n",
    "                if board[r][c] > 0:\n",
    "                    board[wr][c] = board[r][c]\n",
    "                    wr -= 1\n",
    "            for wr in xrange(wr, -1, -1):\n",
    "                board[wr][c] = 0\n",
    "\n",
    "        return self.candyCrush(board) if todo else board"
   ]
  },
  {
   "cell_type": "code",
   "execution_count": null,
   "metadata": {},
   "outputs": [],
   "source": []
  },
  {
   "cell_type": "code",
   "execution_count": null,
   "metadata": {},
   "outputs": [],
   "source": []
  },
  {
   "cell_type": "code",
   "execution_count": null,
   "metadata": {},
   "outputs": [],
   "source": []
  }
 ],
 "metadata": {
  "kernelspec": {
   "display_name": "Python 3",
   "language": "python",
   "name": "python3"
  },
  "language_info": {
   "codemirror_mode": {
    "name": "ipython",
    "version": 3
   },
   "file_extension": ".py",
   "mimetype": "text/x-python",
   "name": "python",
   "nbconvert_exporter": "python",
   "pygments_lexer": "ipython3",
   "version": "3.7.6"
  }
 },
 "nbformat": 4,
 "nbformat_minor": 4
}
