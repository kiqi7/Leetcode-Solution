{
 "cells": [
  {
   "cell_type": "markdown",
   "metadata": {},
   "source": [
    "# 425. Word Squares"
   ]
  },
  {
   "cell_type": "code",
   "execution_count": 1,
   "metadata": {},
   "outputs": [],
   "source": [
    "words = [\"area\",\"lead\",\"wall\",\"lady\",\"ball\"]"
   ]
  },
  {
   "cell_type": "code",
   "execution_count": null,
   "metadata": {},
   "outputs": [],
   "source": [
    "class Solution(object):\n",
    "    def wordSquares(self, words):\n",
    "        \"\"\"\n",
    "        :type words: List[str]\n",
    "        :rtype: List[List[str]]\n",
    "        \"\"\"\n",
    "        self.N = len(words[0])\n",
    "        self.prefix_d = {}\n",
    "        for word in words:\n",
    "            for prefix in (word[:i] for i in range(1, len(word))):\n",
    "                self.prefix_d.setdefault(prefix, set()).add(word)\n",
    "        res = []\n",
    "        word_squares = []\n",
    "        for word in words:\n",
    "            word_squares = [word]\n",
    "            self.backtracking(1, word_squares, res)\n",
    "        return res\n",
    "            \n",
    "    def wordsWithPrefix(self, prefix):\n",
    "        if prefix in self.prefix_d:\n",
    "            return self.prefix_d[prefix]\n",
    "        else:\n",
    "            return set([])\n",
    "\n",
    "    def backtracking(self,step,word_squares,res):\n",
    "        if step == self.N:\n",
    "            res.append(word_squares[:])\n",
    "            return\n",
    "        prefix = ''.join([word[step] for word in word_squares])\n",
    "        for candidate in self.wordsWithPrefix(prefix):\n",
    "            word_squares.append(candidate)\n",
    "            self.backtracking(step+1,word_squares,res)\n",
    "            word_squares.pop()"
   ]
  },
  {
   "cell_type": "code",
   "execution_count": null,
   "metadata": {},
   "outputs": [],
   "source": [
    "def backtracking(self, step, word_squares, results):\n",
    "        if step == self.N:\n",
    "            results.append(word_squares[:])\n",
    "            return\n",
    "\n",
    "        prefix = ''.join([word[step] for word in word_squares])\n",
    "        for candidate in self.getWordsWithPrefix(prefix):\n",
    "            word_squares.append(candidate)\n",
    "            self.backtracking(step+1, word_squares, results)\n",
    "            word_squares.pop()\n",
    "            \n",
    "def getWordsWithPrefix(self, prefix):\n",
    "        if prefix in self.prefixHashTable:\n",
    "            return self.prefixHashTable[prefix]\n",
    "        else:\n",
    "            return set([])"
   ]
  },
  {
   "cell_type": "code",
   "execution_count": 24,
   "metadata": {},
   "outputs": [],
   "source": [
    "def wordsWithPrefix(prefix):\n",
    "    if prefix in prefix_d:\n",
    "        return prefix_d[prefix]\n",
    "    else:\n",
    "        return set([])\n",
    "\n",
    "def backtracking(step,word_squares,res):\n",
    "    if step == N:\n",
    "        res.append(word_squares[:])\n",
    "        return\n",
    "    prefix = ''.join([word[step] for word in word_squares])\n",
    "    for candidate in wordsWithPrefix(prefix):\n",
    "        word_squares.append(candidate)\n",
    "        backtracking(step+1,word_squares,res)\n",
    "        word_squares.pop()"
   ]
  },
  {
   "cell_type": "code",
   "execution_count": 25,
   "metadata": {},
   "outputs": [
    {
     "data": {
      "text/plain": [
       "[['wall', 'area', 'lead', 'lady'], ['ball', 'area', 'lead', 'lady']]"
      ]
     },
     "execution_count": 25,
     "metadata": {},
     "output_type": "execute_result"
    }
   ],
   "source": [
    "N = len(words[0])\n",
    "prefix_d = {}\n",
    "for word in words:\n",
    "    for prefix in (word[:i] for i in range(1, len(word))):\n",
    "        prefix_d.setdefault(prefix, set()).add(word)\n",
    "res = []\n",
    "word_squares = []\n",
    "for word in words:\n",
    "    word_squares = [word]\n",
    "    backtracking(1, word_squares, res)\n",
    "res"
   ]
  },
  {
   "cell_type": "markdown",
   "metadata": {},
   "source": [
    "# 247. Strobogrammatic Number II"
   ]
  },
  {
   "cell_type": "code",
   "execution_count": 38,
   "metadata": {},
   "outputs": [],
   "source": [
    "n = 3"
   ]
  },
  {
   "cell_type": "code",
   "execution_count": 32,
   "metadata": {},
   "outputs": [
    {
     "data": {
      "text/plain": [
       "['00', '11', '88', '69', '96']"
      ]
     },
     "execution_count": 32,
     "metadata": {},
     "output_type": "execute_result"
    }
   ],
   "source": [
    "'00 11 88 69 96'.split()"
   ]
  },
  {
   "cell_type": "code",
   "execution_count": 45,
   "metadata": {},
   "outputs": [],
   "source": [
    "nums = n%2 * list('018') or ['']\n",
    "while n > 1:\n",
    "    n -= 2\n",
    "    nums = [a + num + b for a, b in '00 11 88 69 96'.split()[n<2:] for num in nums]\n",
    "nums"
   ]
  },
  {
   "cell_type": "code",
   "execution_count": 53,
   "metadata": {},
   "outputs": [
    {
     "name": "stdout",
     "output_type": "stream",
     "text": [
      "     1\n"
     ]
    }
   ],
   "source": [
    "res = []\n",
    "n = 3\n",
    "while n > 1:\n",
    "    n -=2\n",
    "    for num in nums:\n",
    "        for a,b in '00 11 88 69 96'.split()[n < 2:]:\n",
    "            res.append(a+num+b)"
   ]
  },
  {
   "cell_type": "code",
   "execution_count": 54,
   "metadata": {},
   "outputs": [
    {
     "data": {
      "text/plain": [
       "['101',\n",
       " '808',\n",
       " '609',\n",
       " '906',\n",
       " '111',\n",
       " '818',\n",
       " '619',\n",
       " '916',\n",
       " '181',\n",
       " '888',\n",
       " '689',\n",
       " '986']"
      ]
     },
     "execution_count": 54,
     "metadata": {},
     "output_type": "execute_result"
    }
   ],
   "source": [
    "res"
   ]
  },
  {
   "cell_type": "markdown",
   "metadata": {},
   "source": [
    "# 212. Word Search II"
   ]
  },
  {
   "cell_type": "code",
   "execution_count": 55,
   "metadata": {},
   "outputs": [],
   "source": [
    "board = [\n",
    "  ['o','a','a','n'],\n",
    "  ['e','t','a','e'],\n",
    "  ['i','h','k','r'],\n",
    "  ['i','f','l','v']]\n",
    "words = [\"oath\",\"pea\",\"eat\",\"rain\"]"
   ]
  },
  {
   "cell_type": "markdown",
   "metadata": {},
   "source": [
    "## Approach 1: Backtracking with Trie"
   ]
  },
  {
   "cell_type": "code",
   "execution_count": 71,
   "metadata": {},
   "outputs": [],
   "source": [
    "WORD_KEY = '$'\n",
    "trie = {}\n",
    "for word in words:\n",
    "    node = trie\n",
    "    for letter in word:\n",
    "        # retrieve the next node; If not found, create a empty node.\n",
    "        node = node.setdefault(letter, {})\n",
    "    # mark the existence of a word in trie node\n",
    "    node[WORD_KEY] = word\n",
    "rowtotal = len(board)\n",
    "coltotal = len(board[0])\n",
    "locateWords = []"
   ]
  },
  {
   "cell_type": "code",
   "execution_count": 72,
   "metadata": {},
   "outputs": [],
   "source": [
    "def backtracking(row,col,parent):\n",
    "    letter = board[row][col]\n",
    "    curNode = parent[letter]\n",
    "    word_match = curNode.pop(WORD_KEY,False)\n",
    "    if word_match:\n",
    "        locateWords.append(word_match)\n",
    "    board[row][col] = '#'\n",
    "    for (rowOffset, colOffset) in [(-1, 0), (0, 1), (1, 0), (0, -1)]:\n",
    "        newRow, newCol = row + rowOffset, col + colOffset\n",
    "        if newRow < 0 or newRow >= rowtotal or newCol < 0 or newCol >= coltotal:\n",
    "            continue\n",
    "        if not board[newRow][newCol] in curNode:\n",
    "            continue\n",
    "        backtracking(newRow,newCol,curNode)\n",
    "    board[row][col] = letter\n",
    "    if not curNode:\n",
    "        parent.pop(letter)"
   ]
  },
  {
   "cell_type": "code",
   "execution_count": 73,
   "metadata": {},
   "outputs": [],
   "source": [
    "for row in range(rowtotal):\n",
    "    for col in range(coltotal):\n",
    "        if board[row][col] in trie:\n",
    "            backtracking(row,col,trie)"
   ]
  },
  {
   "cell_type": "code",
   "execution_count": 74,
   "metadata": {},
   "outputs": [
    {
     "data": {
      "text/plain": [
       "['oath', 'eat']"
      ]
     },
     "execution_count": 74,
     "metadata": {},
     "output_type": "execute_result"
    }
   ],
   "source": [
    "locateWords"
   ]
  },
  {
   "cell_type": "markdown",
   "metadata": {},
   "source": [
    "# 17. Letter Combinations of a Phone Number"
   ]
  },
  {
   "cell_type": "code",
   "execution_count": 99,
   "metadata": {},
   "outputs": [],
   "source": [
    "digits = \"345\""
   ]
  },
  {
   "cell_type": "code",
   "execution_count": 87,
   "metadata": {},
   "outputs": [],
   "source": [
    "values = [chr(i) for i in range(ord('a'),ord('z')+1)]\n",
    "keys = ['{}'.format(i) for i in range(2,10)]\n",
    "phone = {}"
   ]
  },
  {
   "cell_type": "code",
   "execution_count": 88,
   "metadata": {},
   "outputs": [],
   "source": [
    "for i,key in enumerate (keys):\n",
    "    phone[key] = values[i*3:(i+1)*3]"
   ]
  },
  {
   "cell_type": "code",
   "execution_count": 90,
   "metadata": {},
   "outputs": [],
   "source": [
    "phone = {'2': ['a', 'b', 'c'],\n",
    "         '3': ['d', 'e', 'f'],\n",
    "         '4': ['g', 'h', 'i'],\n",
    "         '5': ['j', 'k', 'l'],\n",
    "         '6': ['m', 'n', 'o'],\n",
    "         '7': ['p', 'q', 'r', 's'],\n",
    "         '8': ['t', 'u', 'v'],\n",
    "         '9': ['w', 'x', 'y', 'z']}"
   ]
  },
  {
   "cell_type": "code",
   "execution_count": 104,
   "metadata": {},
   "outputs": [
    {
     "data": {
      "text/plain": [
       "['dgj',\n",
       " 'dgk',\n",
       " 'dgl',\n",
       " 'dhj',\n",
       " 'dhk',\n",
       " 'dhl',\n",
       " 'dij',\n",
       " 'dik',\n",
       " 'dil',\n",
       " 'egj',\n",
       " 'egk',\n",
       " 'egl',\n",
       " 'ehj',\n",
       " 'ehk',\n",
       " 'ehl',\n",
       " 'eij',\n",
       " 'eik',\n",
       " 'eil',\n",
       " 'fgj',\n",
       " 'fgk',\n",
       " 'fgl',\n",
       " 'fhj',\n",
       " 'fhk',\n",
       " 'fhl',\n",
       " 'fij',\n",
       " 'fik',\n",
       " 'fil']"
      ]
     },
     "execution_count": 104,
     "metadata": {},
     "output_type": "execute_result"
    }
   ],
   "source": [
    "def backtrack(combination,next_digits):\n",
    "    if len(next_digits) == 0:\n",
    "        output.append(combination)\n",
    "    else:\n",
    "        for letter in phone[next_digits[0]]:\n",
    "            backtrack(combination + letter, next_digits[1:])\n",
    "output = []\n",
    "if digits:\n",
    "    backtrack('',digits)\n",
    "output"
   ]
  },
  {
   "cell_type": "code",
   "execution_count": 94,
   "metadata": {},
   "outputs": [
    {
     "data": {
      "text/plain": [
       "True"
      ]
     },
     "execution_count": 94,
     "metadata": {},
     "output_type": "execute_result"
    }
   ],
   "source": [
    "c = 0\n",
    "not c"
   ]
  },
  {
   "cell_type": "markdown",
   "metadata": {},
   "source": [
    "# 22. Generate Parentheses"
   ]
  },
  {
   "cell_type": "code",
   "execution_count": 105,
   "metadata": {},
   "outputs": [],
   "source": [
    "n = 3"
   ]
  },
  {
   "cell_type": "code",
   "execution_count": 114,
   "metadata": {},
   "outputs": [],
   "source": [
    "ans = []\n",
    "def backtrack(S = '',left = 0, right = 0):\n",
    "    if len(S) == 2 * n:\n",
    "        ans.append(S)\n",
    "        return\n",
    "    if left < n:\n",
    "        backtrack(S + '(', left+1,right)\n",
    "    if right < left:\n",
    "        backtrack(S+ ')',left, right + 1)"
   ]
  },
  {
   "cell_type": "code",
   "execution_count": 115,
   "metadata": {},
   "outputs": [
    {
     "data": {
      "text/plain": [
       "['((()))', '(()())', '(())()', '()(())', '()()()']"
      ]
     },
     "execution_count": 115,
     "metadata": {},
     "output_type": "execute_result"
    }
   ],
   "source": [
    "c = backtrack()\n",
    "ans"
   ]
  },
  {
   "cell_type": "code",
   "execution_count": null,
   "metadata": {},
   "outputs": [],
   "source": [
    "class Solution(object):\n",
    "    def generateParenthesis(self, N):\n",
    "        ans = []\n",
    "        def backtrack(S = '', left = 0, right = 0):\n",
    "            if len(S) == 2 * N:\n",
    "                ans.append(S)\n",
    "                return\n",
    "            if left < N:\n",
    "                backtrack(S+'(', left+1, right)\n",
    "            if right < left:\n",
    "                backtrack(S+')', left, right+1)\n",
    "\n",
    "        backtrack()\n",
    "        return ans"
   ]
  }
 ],
 "metadata": {
  "kernelspec": {
   "display_name": "Python 3",
   "language": "python",
   "name": "python3"
  },
  "language_info": {
   "codemirror_mode": {
    "name": "ipython",
    "version": 3
   },
   "file_extension": ".py",
   "mimetype": "text/x-python",
   "name": "python",
   "nbconvert_exporter": "python",
   "pygments_lexer": "ipython3",
   "version": "3.7.6"
  }
 },
 "nbformat": 4,
 "nbformat_minor": 4
}
