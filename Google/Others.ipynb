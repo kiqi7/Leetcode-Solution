{
 "cells": [
  {
   "cell_type": "markdown",
   "metadata": {},
   "source": [
    "# 7. Reverse Integer"
   ]
  },
  {
   "cell_type": "code",
   "execution_count": 56,
   "metadata": {},
   "outputs": [],
   "source": [
    "x = -123\n",
    "x = 120"
   ]
  },
  {
   "cell_type": "code",
   "execution_count": 57,
   "metadata": {},
   "outputs": [
    {
     "data": {
      "text/plain": [
       "'21'"
      ]
     },
     "execution_count": 57,
     "metadata": {},
     "output_type": "execute_result"
    }
   ],
   "source": [
    "class Solution(object):\n",
    "    def reverse(self, x):\n",
    "        if x==0:\n",
    "            return 0\n",
    "        str_x = str(x)\n",
    "        x = ''\n",
    "        if str_x[0] == '-':\n",
    "            x += '-'\n",
    "        x += str_x[::-1].lstrip(\"0\").rstrip(\"-\")\n",
    "        x = int(x)\n",
    "        if -2**31<x<2**31-1:\n",
    "            return x\n",
    "        return 0"
   ]
  },
  {
   "cell_type": "code",
   "execution_count": 10,
   "metadata": {},
   "outputs": [
    {
     "data": {
      "text/plain": [
       "2147483647"
      ]
     },
     "execution_count": 10,
     "metadata": {},
     "output_type": "execute_result"
    }
   ],
   "source": [
    "2**(31) - 1"
   ]
  },
  {
   "cell_type": "markdown",
   "metadata": {},
   "source": [
    "# 135. Candy"
   ]
  },
  {
   "cell_type": "code",
   "execution_count": 78,
   "metadata": {},
   "outputs": [],
   "source": [
    "ratings = [1,0,2]"
   ]
  },
  {
   "cell_type": "markdown",
   "metadata": {},
   "source": [
    "## Using two arrays"
   ]
  },
  {
   "cell_type": "code",
   "execution_count": 84,
   "metadata": {},
   "outputs": [
    {
     "name": "stdout",
     "output_type": "stream",
     "text": [
      "    0 2\n",
      "    1 0\n",
      "     [2, 1, 2]\n",
      "     [2, 1, 2]\n"
     ]
    },
    {
     "data": {
      "text/plain": [
       "5"
      ]
     },
     "execution_count": 84,
     "metadata": {},
     "output_type": "execute_result"
    }
   ],
   "source": [
    "outcome = 0\n",
    "N = len(ratings)\n",
    "left_s  = right_s = [1] * N\n",
    "for i in range(1,N):\n",
    "    if ratings[i] > ratings[i -1]:\n",
    "        left_s[i] = left_s[i-1] +1\n",
    "for i in range(N-2,-1,-1):\n",
    "    print('   ',ratings[i],ratings[i + 1])\n",
    "    if ratings[i] > ratings[i + 1]:\n",
    "        right_s[i] = right_s[i+1] +1\n",
    "print('    ',left_s)\n",
    "print('    ',right_s)\n",
    "for i in range(N):\n",
    "    outcome += max(left_s[i],right_s[i])\n",
    "outcome"
   ]
  },
  {
   "cell_type": "markdown",
   "metadata": {},
   "source": [
    "# 205. Isomorphic Strings"
   ]
  },
  {
   "cell_type": "code",
   "execution_count": 121,
   "metadata": {},
   "outputs": [],
   "source": [
    "s = \"egg\"\n",
    "t = \"add\""
   ]
  },
  {
   "cell_type": "code",
   "execution_count": 19,
   "metadata": {},
   "outputs": [],
   "source": [
    "from collections import defaultdict"
   ]
  },
  {
   "cell_type": "code",
   "execution_count": 174,
   "metadata": {},
   "outputs": [],
   "source": [
    "s = \"ab\"\n",
    "t = \"ca\""
   ]
  },
  {
   "cell_type": "code",
   "execution_count": 179,
   "metadata": {},
   "outputs": [
    {
     "data": {
      "text/plain": [
       "True"
      ]
     },
     "execution_count": 179,
     "metadata": {},
     "output_type": "execute_result"
    }
   ],
   "source": [
    "s_dict = defaultdict(list)\n",
    "t_dict = defaultdict(list)\n",
    "for i,x in enumerate(list(s)):\n",
    "    s_dict[x].append(i) \n",
    "for i,x in enumerate(list(t)):\n",
    "    t_dict[x].append(i)\n",
    "list(s_dict.values()) == list(t_dict.values())"
   ]
  },
  {
   "cell_type": "markdown",
   "metadata": {},
   "source": [
    "# 246. Strobogrammatic Number"
   ]
  },
  {
   "cell_type": "code",
   "execution_count": 180,
   "metadata": {},
   "outputs": [],
   "source": [
    "num = \"69\""
   ]
  },
  {
   "cell_type": "code",
   "execution_count": 185,
   "metadata": {},
   "outputs": [
    {
     "data": {
      "text/plain": [
       "True"
      ]
     },
     "execution_count": 185,
     "metadata": {},
     "output_type": "execute_result"
    }
   ],
   "source": [
    "all(num[i] + num[~i] in '696 00 11 88' for i in range(len(num)//2+1))"
   ]
  },
  {
   "cell_type": "code",
   "execution_count": 186,
   "metadata": {},
   "outputs": [
    {
     "data": {
      "text/plain": [
       "2"
      ]
     },
     "execution_count": 186,
     "metadata": {},
     "output_type": "execute_result"
    }
   ],
   "source": [
    "len(num)//2 +1"
   ]
  },
  {
   "cell_type": "code",
   "execution_count": 200,
   "metadata": {},
   "outputs": [],
   "source": [
    "check =[]\n",
    "for i in range(len(num)//2+1):\n",
    "    check.append(num[i] + num[~i] in '696 00 11 88')"
   ]
  },
  {
   "cell_type": "code",
   "execution_count": 194,
   "metadata": {},
   "outputs": [
    {
     "name": "stdout",
     "output_type": "stream",
     "text": [
      "---------\n"
     ]
    }
   ],
   "source": [
    "if '88' in '696 00 11 88':\n",
    "    print('---------')"
   ]
  },
  {
   "cell_type": "code",
   "execution_count": 197,
   "metadata": {},
   "outputs": [
    {
     "data": {
      "text/plain": [
       "True"
      ]
     },
     "execution_count": 197,
     "metadata": {},
     "output_type": "execute_result"
    }
   ],
   "source": [
    "any((True, False))"
   ]
  },
  {
   "cell_type": "code",
   "execution_count": 201,
   "metadata": {},
   "outputs": [
    {
     "data": {
      "text/plain": [
       "True"
      ]
     },
     "execution_count": 201,
     "metadata": {},
     "output_type": "execute_result"
    }
   ],
   "source": [
    "all(check)"
   ]
  },
  {
   "cell_type": "markdown",
   "metadata": {},
   "source": [
    "# 299. Bulls and Cows"
   ]
  },
  {
   "cell_type": "code",
   "execution_count": 1,
   "metadata": {},
   "outputs": [],
   "source": [
    "secret = \"1807\"\n",
    "guess = \"7810\""
   ]
  },
  {
   "cell_type": "code",
   "execution_count": 4,
   "metadata": {},
   "outputs": [],
   "source": [
    "from collections import Counter"
   ]
  },
  {
   "cell_type": "code",
   "execution_count": 2,
   "metadata": {},
   "outputs": [
    {
     "name": "stdout",
     "output_type": "stream",
     "text": [
      "      1 7\n",
      "      8 8\n",
      "      0 1\n",
      "      7 0\n"
     ]
    }
   ],
   "source": [
    "class Solution:\n",
    "    def getHint(self, secret: str, guess: str) -> str:\n",
    "        b = sum(g == s for g, s in zip(secret, guess))\n",
    "        c = sum((Counter(secret) & Counter(guess)).values()) - b\n",
    "        return \"{0}A{1}B\".format(b, c)"
   ]
  },
  {
   "cell_type": "code",
   "execution_count": 3,
   "metadata": {},
   "outputs": [
    {
     "data": {
      "text/plain": [
       "1"
      ]
     },
     "execution_count": 3,
     "metadata": {},
     "output_type": "execute_result"
    }
   ],
   "source": [
    "sum(g == s for g, s in zip(secret, guess))"
   ]
  },
  {
   "cell_type": "code",
   "execution_count": 13,
   "metadata": {},
   "outputs": [
    {
     "data": {
      "text/plain": [
       "4"
      ]
     },
     "execution_count": 13,
     "metadata": {},
     "output_type": "execute_result"
    }
   ],
   "source": [
    "sum((Counter(secret) & Counter(guess)).values()) "
   ]
  },
  {
   "cell_type": "code",
   "execution_count": 7,
   "metadata": {},
   "outputs": [
    {
     "data": {
      "text/plain": [
       "Counter({'a': 2, 'b': 1, 'c': 1, 's': 1, 'd': 1})"
      ]
     },
     "execution_count": 7,
     "metadata": {},
     "output_type": "execute_result"
    }
   ],
   "source": [
    "c = Counter('abcasd')\n",
    "c"
   ]
  },
  {
   "cell_type": "markdown",
   "metadata": {},
   "source": [
    "# 771. Jewels and Stones"
   ]
  },
  {
   "cell_type": "code",
   "execution_count": 14,
   "metadata": {},
   "outputs": [],
   "source": [
    "J = \"aA\"\n",
    "S = \"aAAbbbb\""
   ]
  },
  {
   "cell_type": "code",
   "execution_count": 15,
   "metadata": {},
   "outputs": [
    {
     "data": {
      "text/plain": [
       "3"
      ]
     },
     "execution_count": 15,
     "metadata": {},
     "output_type": "execute_result"
    }
   ],
   "source": [
    "sum(s in J for s in S)"
   ]
  },
  {
   "cell_type": "code",
   "execution_count": 16,
   "metadata": {},
   "outputs": [
    {
     "data": {
      "text/plain": [
       "3"
      ]
     },
     "execution_count": 16,
     "metadata": {},
     "output_type": "execute_result"
    }
   ],
   "source": [
    "sum(S.count(i) for i in J)"
   ]
  },
  {
   "cell_type": "markdown",
   "metadata": {},
   "source": [
    "# 939. Minimum Area Rectangle"
   ]
  },
  {
   "cell_type": "code",
   "execution_count": 17,
   "metadata": {},
   "outputs": [],
   "source": [
    "points = [[1,1],[1,3],[3,1],[3,3],[2,2]]"
   ]
  },
  {
   "cell_type": "code",
   "execution_count": 30,
   "metadata": {},
   "outputs": [
    {
     "name": "stdout",
     "output_type": "stream",
     "text": [
      "      [1, 3]\n",
      "      [2]\n",
      "      [1, 3]\n"
     ]
    },
    {
     "data": {
      "text/plain": [
       "4"
      ]
     },
     "execution_count": 30,
     "metadata": {},
     "output_type": "execute_result"
    }
   ],
   "source": [
    "col = defaultdict(list)\n",
    "for x,y in points:\n",
    "    col[x].append(y)\n",
    "last = {}\n",
    "res = float('inf')\n",
    "for x in sorted(col):\n",
    "    column = col[x]\n",
    "    column.sort()\n",
    "    print('     ',column)\n",
    "    for j, y2 in enumerate(column):\n",
    "        for i in range(j):\n",
    "            y1 = column[i]\n",
    "            if (y1,y2) in last:\n",
    "                res = min(res,(x - last[y1,y2]) * (y2 - y1))\n",
    "            last[y1,y2] = x\n",
    "res if res < float('inf') else 0"
   ]
  },
  {
   "cell_type": "code",
   "execution_count": null,
   "metadata": {},
   "outputs": [],
   "source": [
    "class Solution(object):\n",
    "    def minAreaRect(self, points):\n",
    "        columns = collections.defaultdict(list)\n",
    "        for x, y in points:\n",
    "            columns[x].append(y)\n",
    "        lastx = {}\n",
    "        ans = float('inf')\n",
    "\n",
    "        for x in sorted(columns):\n",
    "            column = columns[x]\n",
    "            column.sort()\n",
    "            for j, y2 in enumerate(column):\n",
    "                for i in xrange(j):\n",
    "                    y1 = column[i]\n",
    "                    if (y1, y2) in lastx:\n",
    "                        ans = min(ans, (x - lastx[y1,y2]) * (y2 - y1))\n",
    "                    lastx[y1, y2] = x\n",
    "        return ans if ans < float('inf') else 0"
   ]
  },
  {
   "cell_type": "markdown",
   "metadata": {},
   "source": [
    "## Approach 2: Count by Diagonal"
   ]
  },
  {
   "cell_type": "code",
   "execution_count": null,
   "metadata": {},
   "outputs": [],
   "source": [
    "class Solution(object):\n",
    "    def minAreaRect(self, points):\n",
    "        S = set(map(tuple, points))\n",
    "        ans = float('inf')\n",
    "        for j, p2 in enumerate(points):\n",
    "            for i in xrange(j):\n",
    "                p1 = points[i]\n",
    "                if (p1[0] != p2[0] and p1[1] != p2[1] and\n",
    "                        (p1[0], p2[1]) in S and (p2[0], p1[1]) in S):\n",
    "                    ans = min(ans, abs(p2[0] - p1[0]) * abs(p2[1] - p1[1]))\n",
    "        return ans if ans < float('inf') else 0"
   ]
  },
  {
   "cell_type": "code",
   "execution_count": 34,
   "metadata": {},
   "outputs": [
    {
     "name": "stdout",
     "output_type": "stream",
     "text": [
      " [5, 6, 6]\n"
     ]
    }
   ],
   "source": [
    "def myfunc(n):\n",
    "    return len(n)\n",
    "\n",
    "x = map(myfunc, ('apple', 'banana', 'cherry'))\n",
    "print('',list(x))"
   ]
  },
  {
   "cell_type": "code",
   "execution_count": 43,
   "metadata": {},
   "outputs": [],
   "source": [
    "S = set(map(tuple, points))\n",
    "res = float('inf')\n",
    "for j, p2 in enumerate(points):\n",
    "    for i in range(j):\n",
    "        p1 = points[i]\n",
    "        if (p1[0] != p2[0] and p1[1] != p2[1] and\n",
    "                (p1[0], p2[1]) in S and (p2[0], p1[1]) in S):\n",
    "            res = min(res, abs(p2[0] - p1[0]) * abs(p2[1] - p1[1]))"
   ]
  },
  {
   "cell_type": "markdown",
   "metadata": {},
   "source": [
    "# 731. My Calendar II"
   ]
  },
  {
   "cell_type": "code",
   "execution_count": 7,
   "metadata": {},
   "outputs": [],
   "source": [
    "t = [[10,20],[50,60],[10,40],[5,15],[5,10],[25,55]]"
   ]
  },
  {
   "cell_type": "code",
   "execution_count": null,
   "metadata": {},
   "outputs": [],
   "source": [
    "class MyCalendarTwo(object):\n",
    "    def __init__(self):\n",
    "        self.calender = []\n",
    "        self.overlaps = []\n",
    "    def book(self, start, end):\n",
    "        for i, j in self.calender:\n",
    "            if start < j and end > i:\n",
    "                return False\n",
    "        for i,j in self.calender:\n",
    "            if start < j and end > i:\n",
    "                self.overlaps.append((max(start,i),min(end,j)))\n",
    "        self.calender.append((start,end))\n",
    "        return True"
   ]
  },
  {
   "cell_type": "code",
   "execution_count": 13,
   "metadata": {},
   "outputs": [],
   "source": [
    "obj = MyCalendarTwo()\n",
    "booking = obj.book(start,end)"
   ]
  },
  {
   "cell_type": "markdown",
   "metadata": {},
   "source": [
    "# 777. Swap Adjacent in LR String"
   ]
  },
  {
   "cell_type": "code",
   "execution_count": 16,
   "metadata": {},
   "outputs": [],
   "source": [
    "start = \"RXXLRXRXL\"\n",
    "end = \"XRLXXRRLX\""
   ]
  },
  {
   "cell_type": "code",
   "execution_count": null,
   "metadata": {},
   "outputs": [],
   "source": [
    "for symblo,op in (('L',opeator.ge), ('R',operator.le)):\n",
    "    B = (i for i,c enumerate(end) if c ==symbol)\n",
    "    for i, c in enumerate(start):\n",
    "        if c ==symbol and not op(i, next(B)):\n",
    "            return False"
   ]
  },
  {
   "cell_type": "code",
   "execution_count": null,
   "metadata": {},
   "outputs": [],
   "source": [
    "class Solution(object):\n",
    "    def canTransform(self, start, end):\n",
    "        if start.replace('X','') != end.replace('X', ''):\n",
    "            return False\n",
    "\n",
    "        for (symbol, op) in (('L', operator.ge), ('R', operator.le)):\n",
    "            B = (i for i, c in enumerate(end) if c == symbol)\n",
    "            for i, c in enumerate(start):\n",
    "                if c == symbol and not op(i, next(B)):\n",
    "                    return False\n",
    "\n",
    "        return True"
   ]
  },
  {
   "cell_type": "code",
   "execution_count": null,
   "metadata": {},
   "outputs": [],
   "source": [
    "class Solution(object):\n",
    "    def canTransform(self, start, end):\n",
    "        # For (i, x) and (j, y) in enumerate(start), enumerate(end)\n",
    "        # where x != 'X' and y != 'X',\n",
    "        # and where if one exhausts early, it's elements are (None, None),...\n",
    "        for (i, x), (j, y) in itertools.izip_longest(\n",
    "                ((i, x) for i, x in enumerate(start) if x != 'X'),\n",
    "                ((j, y) for j, y in enumerate(end) if y != 'X'),\n",
    "                fillvalue = (None, None)):\n",
    "\n",
    "            # If not solid or accessible, return False\n",
    "            if x != y or (x == 'L' and i < j) or (x == 'R' and i > j):\n",
    "                return False\n",
    "\n",
    "        return True"
   ]
  }
 ],
 "metadata": {
  "kernelspec": {
   "display_name": "Python 3",
   "language": "python",
   "name": "python3"
  },
  "language_info": {
   "codemirror_mode": {
    "name": "ipython",
    "version": 3
   },
   "file_extension": ".py",
   "mimetype": "text/x-python",
   "name": "python",
   "nbconvert_exporter": "python",
   "pygments_lexer": "ipython3",
   "version": "3.7.6"
  }
 },
 "nbformat": 4,
 "nbformat_minor": 4
}
