{
 "cells": [
  {
   "cell_type": "markdown",
   "metadata": {},
   "source": [
    "# 127. Word Ladder"
   ]
  },
  {
   "cell_type": "code",
   "execution_count": 10,
   "metadata": {},
   "outputs": [],
   "source": [
    "from collections import defaultdict\n",
    "from collections import deque"
   ]
  },
  {
   "cell_type": "code",
   "execution_count": 14,
   "metadata": {},
   "outputs": [],
   "source": [
    "beginWord = \"hit\"\n",
    "endWord = \"cog\"\n",
    "wordList = [\"hot\",\"dot\",\"dog\",\"lot\",\"log\",\"cog\"]"
   ]
  },
  {
   "cell_type": "code",
   "execution_count": 8,
   "metadata": {},
   "outputs": [],
   "source": [
    "beginWord = \"hit\"\n",
    "endWord = \"cog\"\n",
    "wordList = [\"hot\",\"dot\",\"dog\",\"lot\",\"log\"]"
   ]
  },
  {
   "cell_type": "code",
   "execution_count": null,
   "metadata": {},
   "outputs": [],
   "source": [
    "from collections import defaultdict\n",
    "class Solution(object):\n",
    "    def ladderLength(self, beginWord, endWord, wordList):\n",
    "        \"\"\"\n",
    "        :type beginWord: str\n",
    "        :type endWord: str\n",
    "        :type wordList: List[str]\n",
    "        :rtype: int\n",
    "        \"\"\"\n",
    "\n",
    "        if endWord not in wordList or not endWord or not beginWord or not wordList:\n",
    "            return 0\n",
    "\n",
    "        n = len(beginWord)\n",
    "        combin_dict = defaultdict(list)\n",
    "        for word in wordList:\n",
    "            for i in range(n):\n",
    "                combin_dict[word[:i] + \"*\" + word[i+1:]].append(word)\n",
    "        queue = deque([(beginWord,1)])\n",
    "        visited = {beginWord: True}\n",
    "        while queue:\n",
    "            cur_word, level = queue.popleft()\n",
    "            for i in range(n):\n",
    "                intermediate_word = cur_word[:i] + \"*\" + cur_word[i+1:]\n",
    "                for word in combin_dict[intermediate_word]:\n",
    "                    if word == endWord:\n",
    "                        return level + 1\n",
    "                    if word not in visited:\n",
    "                        visited[word] = True\n",
    "                        queue.append((word, level + 1))\n",
    "                combin_dict[intermediate_word] = []\n",
    "        return 0"
   ]
  },
  {
   "cell_type": "code",
   "execution_count": 9,
   "metadata": {},
   "outputs": [
    {
     "data": {
      "text/plain": [
       "0"
      ]
     },
     "execution_count": 9,
     "metadata": {},
     "output_type": "execute_result"
    }
   ],
   "source": [
    "y = Solution()\n",
    "res = y.ladderLength(beginWord, endWord, wordList)\n",
    "res"
   ]
  },
  {
   "cell_type": "markdown",
   "metadata": {},
   "source": [
    "# 200. Number of Islands"
   ]
  },
  {
   "cell_type": "code",
   "execution_count": 64,
   "metadata": {},
   "outputs": [],
   "source": [
    "grid = [[\"1\",\"1\",\"1\",\"1\",\"0\"],\n",
    "        [\"1\",\"1\",\"0\",\"1\",\"0\"],\n",
    "        [\"1\",\"1\",\"0\",\"0\",\"0\"],\n",
    "        [\"0\",\"0\",\"0\",\"0\",\"1\"]]"
   ]
  },
  {
   "cell_type": "code",
   "execution_count": 65,
   "metadata": {},
   "outputs": [],
   "source": [
    "def ind_island(i, j, grid):\n",
    "    if i < 0 or j <0 or i == len(grid) or j == len(grid[0]) or grid[i][j] != '1':\n",
    "        return\n",
    "    else:\n",
    "        grid[i][j] = '0'\n",
    "        ind_island(i, j+1, grid)\n",
    "        ind_island(i, j-1, grid)\n",
    "        ind_island(i+1, j, grid)\n",
    "        ind_island(i-1, j, grid)\n",
    "\n",
    "def numIslands(grid):\n",
    "    island = 0\n",
    "    for i in range(len(grid)):\n",
    "        for j in range(len(grid[0])):\n",
    "            if grid[i][j] == '1':\n",
    "                island += 1\n",
    "                ind_island(i, j, grid)\n",
    "    print('    ',island)"
   ]
  },
  {
   "cell_type": "code",
   "execution_count": 66,
   "metadata": {},
   "outputs": [
    {
     "name": "stdout",
     "output_type": "stream",
     "text": [
      "     2\n"
     ]
    }
   ],
   "source": [
    "c = numIslands(grid)\n",
    "c"
   ]
  },
  {
   "cell_type": "code",
   "execution_count": null,
   "metadata": {},
   "outputs": [],
   "source": [
    "class Solution(object):\n",
    "    def numIslands(self, grid):\n",
    "        \"\"\"\n",
    "        :type grid: List[List[str]]\n",
    "        :rtype: int\n",
    "        \"\"\"\n",
    "        islands = 0\n",
    "        for i in range(len(grid)):  \n",
    "            for j in range(len(grid[0])):\n",
    "                if grid[i][j] == '1':\n",
    "                    islands += 1\n",
    "                    self.part_of_island(i,j,grid)\n",
    "        return islands\n",
    "\n",
    "    def part_of_island(self, i, j,grid):\n",
    "        if i < 0 or j < 0 or i == len(grid) or j == len(grid[0]) or grid[i][j] != '1':\n",
    "            return\n",
    "        else:\n",
    "            grid[i][j] = '0'\n",
    "        self.part_of_island(i,j+1,grid)\n",
    "        self.part_of_island(i,j-1,grid)\n",
    "        self.part_of_island(i+1,j,grid)\n",
    "        self.part_of_island(i-1,j,grid)  "
   ]
  },
  {
   "cell_type": "code",
   "execution_count": null,
   "metadata": {},
   "outputs": [],
   "source": []
  },
  {
   "cell_type": "markdown",
   "metadata": {},
   "source": [
    "# 210. Course Schedule II"
   ]
  },
  {
   "cell_type": "code",
   "execution_count": 12,
   "metadata": {},
   "outputs": [],
   "source": [
    "numCourses = 4\n",
    "prerequisites = [[1,0],[2,0],[3,1],[3,2]]"
   ]
  },
  {
   "cell_type": "markdown",
   "metadata": {},
   "source": [
    "### Topological Sorting"
   ]
  },
  {
   "cell_type": "code",
   "execution_count": 70,
   "metadata": {},
   "outputs": [
    {
     "data": {
      "text/plain": [
       "defaultdict(list, {0: [1, 2], 1: [3], 2: [3]})"
      ]
     },
     "execution_count": 70,
     "metadata": {},
     "output_type": "execute_result"
    }
   ],
   "source": [
    "adj_list = defaultdict(list)\n",
    "for dest, src in prerequisites:\n",
    "    adj_list[src].append(dest)\n",
    "topological_sorted = []\n",
    "is_possible = True\n",
    "color = {k:So}"
   ]
  },
  {
   "cell_type": "code",
   "execution_count": 9,
   "metadata": {},
   "outputs": [],
   "source": [
    "from collections import defaultdict\n",
    "class Solution:\n",
    "    WHITE = 1\n",
    "    GRAY = 2\n",
    "    BLACK = 3\n",
    "    def findOrder(self, numCourses, prerequisites):\n",
    "        adj_list = defaultdict(list)\n",
    "        for dest, src in prerequisites:\n",
    "            adj_list[src].append(dest)\n",
    "        topological_sorted = []\n",
    "        is_possible = True\n",
    "        color = {k:Solution.WHITE for k in range(numCourses)}\n",
    "        def dfs(node):\n",
    "            nonlocal is_possible\n",
    "            if not is_possible:\n",
    "                return\n",
    "            color[node] = Solution.GRAY\n",
    "            if node in adj_list:\n",
    "                for neighbor in adj_list[node]:\n",
    "                    if color[neighbor] == Solution.WHITE:\n",
    "                        dfs(neighbor)\n",
    "                    elif color[neighbor] == Solution.GRAY:\n",
    "                        is_possible = False\n",
    "            color[node] = Solution.BLACK\n",
    "            topological_sorted.append(node)\n",
    "        for vertex in range(numCourses):\n",
    "            if color[vertex] == Solution.WHITE:\n",
    "                dfs(vertex)\n",
    "        return topological_sorted[::-1] if is_possible else []"
   ]
  },
  {
   "cell_type": "code",
   "execution_count": 10,
   "metadata": {},
   "outputs": [
    {
     "data": {
      "text/plain": [
       "[0, 2, 1, 3]"
      ]
     },
     "execution_count": 10,
     "metadata": {},
     "output_type": "execute_result"
    }
   ],
   "source": [
    "y = Solution()\n",
    "res = y.findOrder(numCourses, prerequisites)\n",
    "res"
   ]
  },
  {
   "cell_type": "markdown",
   "metadata": {},
   "source": [
    "## Approach 2: Using Node Indegree"
   ]
  },
  {
   "cell_type": "code",
   "execution_count": 31,
   "metadata": {},
   "outputs": [
    {
     "name": "stdout",
     "output_type": "stream",
     "text": [
      "     1\n",
      "     2\n",
      "     3\n",
      "     3\n"
     ]
    }
   ],
   "source": [
    "from collections import defaultdict, deque\n",
    "adj_list = defaultdict(list)\n",
    "indegree = {}\n",
    "for dest, src in prerequisites:\n",
    "    adj_list[src].append(dest)\n",
    "    indegree[dest] = indegree.get(dest, 0) + 1\n",
    "zero_queue = deque([k for k in range(numCourses) if k not in indegree])\n",
    "topological_order = []\n",
    "while zero_queue:\n",
    "    vertex = zero_queue.popleft()\n",
    "    topological_order.append(vertex)\n",
    "    if vertex in adj_list:\n",
    "        for neighbor in adj_list[vertex]:\n",
    "            print('    ',neighbor)\n",
    "            indegree[neighbor] -= 1\n",
    "            \n",
    "            if indegree[neighbor] ==0:\n",
    "                zero_queue.append(neighbor)"
   ]
  },
  {
   "cell_type": "markdown",
   "metadata": {},
   "source": [
    "# 329. Longest Increasing Path in a Matrix"
   ]
  },
  {
   "cell_type": "code",
   "execution_count": 38,
   "metadata": {},
   "outputs": [],
   "source": [
    "matrix = [\n",
    "  [9,9,4],\n",
    "  [6,6,8],\n",
    "  [2,1,1]] "
   ]
  },
  {
   "cell_type": "code",
   "execution_count": null,
   "metadata": {},
   "outputs": [],
   "source": [
    "class Solution(object):\n",
    "    def longestIncreasingPath(self, matrix):\n",
    "        if not matrix or not matrix[0]:\n",
    "            return 0\n",
    "        m, n = len(matrix), len(matrix[0])\n",
    "        lst = []\n",
    "        for i in range(m):\n",
    "            for j in range(n):\n",
    "                lst.append((matrix[i][j], i, j))\n",
    "        lst.sort()\n",
    "        dp = [[0 for _ in range(n)] for _ in range(m)]\n",
    "        for num, i, j in lst:\n",
    "            dp[i][j] = 1\n",
    "            for di, dj in [(0, 1), (1, 0), (0, -1), (-1, 0)]:\n",
    "                r, c = i + di, j + dj\n",
    "                if 0 <= r < m and 0 <= c < n:\n",
    "                    if matrix[i][j] > matrix[r][c]:\n",
    "                        dp[i][j] = max(dp[i][j], 1 + dp[r][c])\n",
    "        return max([dp[i][j] for i in range(m) for j in range(n)])"
   ]
  },
  {
   "cell_type": "code",
   "execution_count": 45,
   "metadata": {},
   "outputs": [
    {
     "data": {
      "text/plain": [
       "True"
      ]
     },
     "execution_count": 45,
     "metadata": {},
     "output_type": "execute_result"
    }
   ],
   "source": [
    "c = []\n",
    "not c"
   ]
  },
  {
   "cell_type": "markdown",
   "metadata": {},
   "source": [
    "# 394. Decode String"
   ]
  },
  {
   "cell_type": "code",
   "execution_count": 1,
   "metadata": {},
   "outputs": [],
   "source": [
    "s = \"3[a]2[bc]\""
   ]
  },
  {
   "cell_type": "code",
   "execution_count": 2,
   "metadata": {},
   "outputs": [],
   "source": [
    "s = '3[a2[c]]'"
   ]
  },
  {
   "cell_type": "code",
   "execution_count": 64,
   "metadata": {},
   "outputs": [
    {
     "data": {
      "text/plain": [
       "'accaccacc'"
      ]
     },
     "execution_count": 64,
     "metadata": {},
     "output_type": "execute_result"
    }
   ],
   "source": [
    "num_s = []\n",
    "char_s = []\n",
    "res = ''\n",
    "num_str = ''\n",
    "for i in s:\n",
    "    if i.isdigit():\n",
    "        num_str += i\n",
    "    elif i =='[':\n",
    "        char_s.append(res)\n",
    "        num_s.append(num_str)\n",
    "        res = ''\n",
    "        num_str = ''\n",
    "    elif i == ']':\n",
    "        res =char_s.pop() + int(num_s.pop()) * res\n",
    "    else:\n",
    "        res += i\n",
    "res"
   ]
  },
  {
   "cell_type": "markdown",
   "metadata": {},
   "source": [
    "# 753. Cracking the Safe"
   ]
  },
  {
   "cell_type": "code",
   "execution_count": 98,
   "metadata": {},
   "outputs": [],
   "source": [
    "n = 2\n",
    "k = 3"
   ]
  },
  {
   "cell_type": "markdown",
   "metadata": {},
   "source": [
    "## Approach 1: Hierholzer's Algorithm"
   ]
  },
  {
   "cell_type": "code",
   "execution_count": 100,
   "metadata": {},
   "outputs": [
    {
     "data": {
      "text/plain": [
       "['0', '2', '2', '1', '1', '2', '0', '1', '0']"
      ]
     },
     "execution_count": 100,
     "metadata": {},
     "output_type": "execute_result"
    }
   ],
   "source": [
    "seen = set()\n",
    "res = []\n",
    "def dfs(node):\n",
    "    for i in map(str, range(k)):\n",
    "        p = node + i\n",
    "        if p not in seen:\n",
    "            seen.add(p)\n",
    "            dfs(p[1:])\n",
    "            res.append(i)\n",
    "y = dfs('0' *(n-1))\n",
    "res"
   ]
  },
  {
   "cell_type": "code",
   "execution_count": 65,
   "metadata": {},
   "outputs": [],
   "source": [
    "class Solution(object):\n",
    "    def crackSafe(self, n, k):\n",
    "        seen = set()\n",
    "        ans = []\n",
    "        def dfs(node):\n",
    "            for x in map(str, range(k)):\n",
    "                nei = node + x\n",
    "                if nei not in seen:\n",
    "                    seen.add(nei)\n",
    "                    dfs(nei[1:])\n",
    "                    ans.append(x)\n",
    "\n",
    "        dfs(\"0\" * (n-1))\n",
    "        return \"\".join(ans) + \"0\" * (n-1)"
   ]
  },
  {
   "cell_type": "markdown",
   "metadata": {},
   "source": [
    "# 947. Most Stones Removed with Same Row or Column"
   ]
  },
  {
   "cell_type": "code",
   "execution_count": 101,
   "metadata": {},
   "outputs": [],
   "source": [
    "stones = [[0,0],[0,1],[1,0],[1,2],[2,1],[2,2]]"
   ]
  },
  {
   "cell_type": "markdown",
   "metadata": {},
   "source": [
    "## Approach 1: Depth-First Search"
   ]
  },
  {
   "cell_type": "code",
   "execution_count": 113,
   "metadata": {},
   "outputs": [],
   "source": [
    "class Solution(object):\n",
    "    def removeStones(self, stones):\n",
    "        \"\"\"\n",
    "        :type stones: List[List[int]]\n",
    "        :rtype: int\n",
    "        \"\"\"\n",
    "        graph = defaultdict(list)\n",
    "        for i, item in enumerate(stones):\n",
    "            for j in range(i):\n",
    "                y = stones[j] \n",
    "                if item[0] == y[0] or item[1] == y[1]:\n",
    "                    graph[i].append(j)\n",
    "                    graph[j].append(i)\n",
    "        N = len(stones)\n",
    "        res = 0\n",
    "        seen = [False] * N\n",
    "        for i in range(N):\n",
    "            if not seen[i]:\n",
    "                stack = [i]\n",
    "                seen[i] = True\n",
    "                while stack:\n",
    "                    res += 1\n",
    "                    node = stack.pop()\n",
    "                    for nei in graph[node]:\n",
    "                        if not seen[nei]:\n",
    "                            stack.append(nei)\n",
    "                            seen[nei] = True\n",
    "                res -= 1\n",
    "        return res"
   ]
  },
  {
   "cell_type": "code",
   "execution_count": 114,
   "metadata": {},
   "outputs": [
    {
     "data": {
      "text/plain": [
       "5"
      ]
     },
     "execution_count": 114,
     "metadata": {},
     "output_type": "execute_result"
    }
   ],
   "source": [
    "res"
   ]
  },
  {
   "cell_type": "code",
   "execution_count": null,
   "metadata": {},
   "outputs": [],
   "source": []
  }
 ],
 "metadata": {
  "kernelspec": {
   "display_name": "Python 3",
   "language": "python",
   "name": "python3"
  },
  "language_info": {
   "codemirror_mode": {
    "name": "ipython",
    "version": 3
   },
   "file_extension": ".py",
   "mimetype": "text/x-python",
   "name": "python",
   "nbconvert_exporter": "python",
   "pygments_lexer": "ipython3",
   "version": "3.7.6"
  }
 },
 "nbformat": 4,
 "nbformat_minor": 4
}
