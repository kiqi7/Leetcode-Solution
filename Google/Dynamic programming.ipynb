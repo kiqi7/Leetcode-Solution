{
 "cells": [
  {
   "cell_type": "markdown",
   "metadata": {},
   "source": [
    "# 5. Longest Palindromic Substring"
   ]
  },
  {
   "cell_type": "code",
   "execution_count": 16,
   "metadata": {},
   "outputs": [],
   "source": [
    "s = \"babad\""
   ]
  },
  {
   "cell_type": "code",
   "execution_count": 15,
   "metadata": {},
   "outputs": [],
   "source": [
    "class Solution(object):\n",
    "    def longestPalindrome(self, s):\n",
    "        \"\"\"\n",
    "        :type s: str\n",
    "        :rtype: str\n",
    "        \"\"\"\n",
    "        if s == None and len(s) < 1:\n",
    "            return ''\n",
    "        start = end = 0\n",
    "        for i in range (len(s)):\n",
    "            substring1 = self.helper(s,i,i)\n",
    "            substring2 = self.helper(s,i,i+1)\n",
    "            longest = max(substring1,substring2)\n",
    "            if longest > end -start:\n",
    "                start = i - int((longest - 1) /2)\n",
    "                end = i +int(longest /2)\n",
    "        return s[start:end+1]\n",
    "    \n",
    "    def helper(self,s, left, right):\n",
    "        L = left\n",
    "        R = right\n",
    "        while (L >=0 and R < len(s)) and s[L] == s[R]:\n",
    "            L -= 1\n",
    "            R += 1\n",
    "        return R - L - 1"
   ]
  },
  {
   "cell_type": "code",
   "execution_count": 17,
   "metadata": {},
   "outputs": [
    {
     "data": {
      "text/plain": [
       "'aba'"
      ]
     },
     "execution_count": 17,
     "metadata": {},
     "output_type": "execute_result"
    }
   ],
   "source": [
    "y = Solution()\n",
    "res = y.longestPalindrome(s)\n",
    "res"
   ]
  },
  {
   "cell_type": "markdown",
   "metadata": {},
   "source": [
    "# 53. Maximum Subarray"
   ]
  },
  {
   "cell_type": "code",
   "execution_count": 9,
   "metadata": {},
   "outputs": [],
   "source": [
    "nums = [-2,1,-3,4,-1,2,1,-5,4]"
   ]
  },
  {
   "cell_type": "code",
   "execution_count": 10,
   "metadata": {},
   "outputs": [],
   "source": [
    "class Solution(object):\n",
    "    def maxSubArray(self, nums):\n",
    "        \"\"\"\n",
    "        :type nums: List[int]\n",
    "        :rtype: int\n",
    "        \"\"\"\n",
    "        max_s = nums[0]\n",
    "        for i in range(1, len(nums)):\n",
    "            if nums[i - 1]>0:\n",
    "                nums[i] += nums[i-1]\n",
    "            max_s = max(nums[i],max_s)\n",
    "        return max_s"
   ]
  },
  {
   "cell_type": "code",
   "execution_count": 14,
   "metadata": {},
   "outputs": [
    {
     "data": {
      "text/plain": [
       "84"
      ]
     },
     "execution_count": 14,
     "metadata": {},
     "output_type": "execute_result"
    }
   ],
   "source": [
    "max_s = nums[0]\n",
    "for i in range(1, len(nums)):\n",
    "    if nums[i - 1]>0:\n",
    "        nums[i] += nums[i-1]\n",
    "    max_s = max(nums[i],max_s)\n",
    "max_s"
   ]
  },
  {
   "cell_type": "markdown",
   "metadata": {},
   "source": [
    "# 121. Best Time to Buy and Sell Stock"
   ]
  },
  {
   "cell_type": "code",
   "execution_count": 13,
   "metadata": {},
   "outputs": [],
   "source": [
    "prices = [7,1,5,3,6,4]\n",
    "# prices = [7,6,4,3,1]"
   ]
  },
  {
   "cell_type": "code",
   "execution_count": 14,
   "metadata": {},
   "outputs": [
    {
     "data": {
      "text/plain": [
       "5"
      ]
     },
     "execution_count": 14,
     "metadata": {},
     "output_type": "execute_result"
    }
   ],
   "source": [
    "minprice = float('inf')\n",
    "max_p = 0\n",
    "for i in range (len(prices)):\n",
    "    if prices[i] < minprice:\n",
    "        minprice = prices[i]\n",
    "    elif prices[i] - minprice > max_p:\n",
    "        max_p = prices[i] - minprice\n",
    "        \n",
    "max_p      "
   ]
  },
  {
   "cell_type": "markdown",
   "metadata": {},
   "source": [
    "# 152. Maximum Product Subarray"
   ]
  },
  {
   "cell_type": "code",
   "execution_count": 3,
   "metadata": {},
   "outputs": [],
   "source": [
    "nums = [2,3,-2,4]\n",
    "# nums = [0,2]"
   ]
  },
  {
   "cell_type": "code",
   "execution_count": 4,
   "metadata": {},
   "outputs": [],
   "source": [
    "class Solution(object):\n",
    "    def maxProduct(self, nums):\n",
    "        \"\"\"\n",
    "        :type nums: List[int]\n",
    "        :rtype: int\n",
    "        \"\"\"\n",
    "        MinTemp = nums[0]\n",
    "        MaxTemp = nums[0]\n",
    "        Max = nums[0]\n",
    "        for i in range(1, len(nums)):\n",
    "            MinTemp, MaxTemp = min(nums[i], nums[i] * MaxTemp, nums[i] * MinTemp), max(nums[i], nums[i] * MaxTemp, nums[i] * MinTemp)\n",
    "            Max = max(Max, MaxTemp)\n",
    "        return Max"
   ]
  },
  {
   "cell_type": "code",
   "execution_count": 5,
   "metadata": {},
   "outputs": [
    {
     "data": {
      "text/plain": [
       "6"
      ]
     },
     "execution_count": 5,
     "metadata": {},
     "output_type": "execute_result"
    }
   ],
   "source": [
    "y = Solution()\n",
    "res = y.maxProduct(nums)\n",
    "res"
   ]
  },
  {
   "cell_type": "markdown",
   "metadata": {},
   "source": [
    "# 322. Coin Change"
   ]
  },
  {
   "cell_type": "code",
   "execution_count": 74,
   "metadata": {},
   "outputs": [],
   "source": [
    "coins = [1, 2, 5]\n",
    "amount = 11"
   ]
  },
  {
   "cell_type": "code",
   "execution_count": null,
   "metadata": {},
   "outputs": [],
   "source": [
    "class Solution(object):\n",
    "    def coinChange(self, coins, amount):\n",
    "        \"\"\"\n",
    "        :type coins: List[int]\n",
    "        :type amount: int\n",
    "        :rtype: int\n",
    "        \"\"\"\n",
    "        if amount == 0:\n",
    "            return 0\n",
    "        dp = [amount+1]*(1+amount)\n",
    "        dp[0] = 0\n",
    "        for i in xrange(1,amount+1):\n",
    "            for j in xrange(len(coins)):\n",
    "                if coins[j]<=i:\n",
    "                    dp[i] = min(dp[i],dp[i-coins[j]]+1)\n",
    "        return -1 if dp[-1] == amount+1 else dp[-1]"
   ]
  },
  {
   "cell_type": "markdown",
   "metadata": {},
   "source": [
    "# 410. Split Array Largest Sum"
   ]
  },
  {
   "cell_type": "code",
   "execution_count": 4,
   "metadata": {},
   "outputs": [],
   "source": [
    "nums = [7,2,5,10,8]\n",
    "m = 2"
   ]
  },
  {
   "cell_type": "code",
   "execution_count": 8,
   "metadata": {},
   "outputs": [],
   "source": [
    "N = len(nums)\n",
    "hi = sum(nums)\n",
    "lo = hi / m\n",
    "while lo <= hi:\n",
    "    mid =(lo + hi) / 2\n",
    "    n = m\n",
    "    cur = 0\n",
    "    valid = True\n",
    "    for i in range(N):\n",
    "        if nums[i] > mid:\n",
    "            valid = False\n",
    "            break\n",
    "        if cur + nums[i] > mid:\n",
    "            n -= 1\n",
    "            cur = 0\n",
    "        cur += nums[i]\n",
    "        if n == 0:\n",
    "            valid = False\n",
    "            break\n",
    "    if valid:\n",
    "        hi = mid -1\n",
    "    else:\n",
    "        lo = mid + 1"
   ]
  },
  {
   "cell_type": "code",
   "execution_count": 10,
   "metadata": {},
   "outputs": [
    {
     "data": {
      "text/plain": [
       "18"
      ]
     },
     "execution_count": 10,
     "metadata": {},
     "output_type": "execute_result"
    }
   ],
   "source": [
    "int(lo)"
   ]
  }
 ],
 "metadata": {
  "kernelspec": {
   "display_name": "Python 3",
   "language": "python",
   "name": "python3"
  },
  "language_info": {
   "codemirror_mode": {
    "name": "ipython",
    "version": 3
   },
   "file_extension": ".py",
   "mimetype": "text/x-python",
   "name": "python",
   "nbconvert_exporter": "python",
   "pygments_lexer": "ipython3",
   "version": "3.7.6"
  }
 },
 "nbformat": 4,
 "nbformat_minor": 4
}
